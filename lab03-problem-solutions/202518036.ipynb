{
 "cells": [
  {
   "cell_type": "markdown",
   "id": "fd87d5fe",
   "metadata": {},
   "source": [
    "# Student Id: 202518036\n",
    "# Name: Kashyap S. Patel\n",
    "# Lab Assignment 3"
   ]
  },
  {
   "cell_type": "code",
   "execution_count": 1,
   "id": "9a91789b",
   "metadata": {},
   "outputs": [],
   "source": [
    "import pandas as pd\n",
    "import numpy as np"
   ]
  },
  {
   "cell_type": "markdown",
   "id": "1c32fbf1",
   "metadata": {},
   "source": [
    "## Part 1"
   ]
  },
  {
   "cell_type": "code",
   "execution_count": 2,
   "id": "6889450e",
   "metadata": {},
   "outputs": [],
   "source": [
    "df = pd.read_csv(\"../datasets/titanic.csv\")"
   ]
  },
  {
   "cell_type": "code",
   "execution_count": 3,
   "id": "ff5daf37",
   "metadata": {},
   "outputs": [
    {
     "data": {
      "application/vnd.microsoft.datawrangler.viewer.v0+json": {
       "columns": [
        {
         "name": "index",
         "rawType": "int64",
         "type": "integer"
        },
        {
         "name": "PassengerId",
         "rawType": "int64",
         "type": "integer"
        },
        {
         "name": "Survived",
         "rawType": "int64",
         "type": "integer"
        },
        {
         "name": "Pclass",
         "rawType": "int64",
         "type": "integer"
        },
        {
         "name": "Name",
         "rawType": "object",
         "type": "string"
        },
        {
         "name": "Sex",
         "rawType": "object",
         "type": "string"
        },
        {
         "name": "Age",
         "rawType": "float64",
         "type": "float"
        },
        {
         "name": "SibSp",
         "rawType": "int64",
         "type": "integer"
        },
        {
         "name": "Parch",
         "rawType": "int64",
         "type": "integer"
        },
        {
         "name": "Ticket",
         "rawType": "object",
         "type": "string"
        },
        {
         "name": "Fare",
         "rawType": "float64",
         "type": "float"
        },
        {
         "name": "Cabin",
         "rawType": "object",
         "type": "unknown"
        },
        {
         "name": "Embarked",
         "rawType": "object",
         "type": "string"
        }
       ],
       "ref": "2e10dced-c2ca-437f-823d-d277a22e2732",
       "rows": [
        [
         "0",
         "1",
         "0",
         "3",
         "Braund, Mr. Owen Harris",
         "male",
         "22.0",
         "1",
         "0",
         "A/5 21171",
         "7.25",
         null,
         "S"
        ],
        [
         "1",
         "2",
         "1",
         "1",
         "Cumings, Mrs. John Bradley (Florence Briggs Thayer)",
         "female",
         "38.0",
         "1",
         "0",
         "PC 17599",
         "71.2833",
         "C85",
         "C"
        ],
        [
         "2",
         "3",
         "1",
         "3",
         "Heikkinen, Miss. Laina",
         "female",
         "26.0",
         "0",
         "0",
         "STON/O2. 3101282",
         "7.925",
         null,
         "S"
        ],
        [
         "3",
         "4",
         "1",
         "1",
         "Futrelle, Mrs. Jacques Heath (Lily May Peel)",
         "female",
         "35.0",
         "1",
         "0",
         "113803",
         "53.1",
         "C123",
         "S"
        ],
        [
         "4",
         "5",
         "0",
         "3",
         "Allen, Mr. William Henry",
         "male",
         "35.0",
         "0",
         "0",
         "373450",
         "8.05",
         null,
         "S"
        ]
       ],
       "shape": {
        "columns": 12,
        "rows": 5
       }
      },
      "text/html": [
       "<div>\n",
       "<style scoped>\n",
       "    .dataframe tbody tr th:only-of-type {\n",
       "        vertical-align: middle;\n",
       "    }\n",
       "\n",
       "    .dataframe tbody tr th {\n",
       "        vertical-align: top;\n",
       "    }\n",
       "\n",
       "    .dataframe thead th {\n",
       "        text-align: right;\n",
       "    }\n",
       "</style>\n",
       "<table border=\"1\" class=\"dataframe\">\n",
       "  <thead>\n",
       "    <tr style=\"text-align: right;\">\n",
       "      <th></th>\n",
       "      <th>PassengerId</th>\n",
       "      <th>Survived</th>\n",
       "      <th>Pclass</th>\n",
       "      <th>Name</th>\n",
       "      <th>Sex</th>\n",
       "      <th>Age</th>\n",
       "      <th>SibSp</th>\n",
       "      <th>Parch</th>\n",
       "      <th>Ticket</th>\n",
       "      <th>Fare</th>\n",
       "      <th>Cabin</th>\n",
       "      <th>Embarked</th>\n",
       "    </tr>\n",
       "  </thead>\n",
       "  <tbody>\n",
       "    <tr>\n",
       "      <th>0</th>\n",
       "      <td>1</td>\n",
       "      <td>0</td>\n",
       "      <td>3</td>\n",
       "      <td>Braund, Mr. Owen Harris</td>\n",
       "      <td>male</td>\n",
       "      <td>22.0</td>\n",
       "      <td>1</td>\n",
       "      <td>0</td>\n",
       "      <td>A/5 21171</td>\n",
       "      <td>7.2500</td>\n",
       "      <td>NaN</td>\n",
       "      <td>S</td>\n",
       "    </tr>\n",
       "    <tr>\n",
       "      <th>1</th>\n",
       "      <td>2</td>\n",
       "      <td>1</td>\n",
       "      <td>1</td>\n",
       "      <td>Cumings, Mrs. John Bradley (Florence Briggs Th...</td>\n",
       "      <td>female</td>\n",
       "      <td>38.0</td>\n",
       "      <td>1</td>\n",
       "      <td>0</td>\n",
       "      <td>PC 17599</td>\n",
       "      <td>71.2833</td>\n",
       "      <td>C85</td>\n",
       "      <td>C</td>\n",
       "    </tr>\n",
       "    <tr>\n",
       "      <th>2</th>\n",
       "      <td>3</td>\n",
       "      <td>1</td>\n",
       "      <td>3</td>\n",
       "      <td>Heikkinen, Miss. Laina</td>\n",
       "      <td>female</td>\n",
       "      <td>26.0</td>\n",
       "      <td>0</td>\n",
       "      <td>0</td>\n",
       "      <td>STON/O2. 3101282</td>\n",
       "      <td>7.9250</td>\n",
       "      <td>NaN</td>\n",
       "      <td>S</td>\n",
       "    </tr>\n",
       "    <tr>\n",
       "      <th>3</th>\n",
       "      <td>4</td>\n",
       "      <td>1</td>\n",
       "      <td>1</td>\n",
       "      <td>Futrelle, Mrs. Jacques Heath (Lily May Peel)</td>\n",
       "      <td>female</td>\n",
       "      <td>35.0</td>\n",
       "      <td>1</td>\n",
       "      <td>0</td>\n",
       "      <td>113803</td>\n",
       "      <td>53.1000</td>\n",
       "      <td>C123</td>\n",
       "      <td>S</td>\n",
       "    </tr>\n",
       "    <tr>\n",
       "      <th>4</th>\n",
       "      <td>5</td>\n",
       "      <td>0</td>\n",
       "      <td>3</td>\n",
       "      <td>Allen, Mr. William Henry</td>\n",
       "      <td>male</td>\n",
       "      <td>35.0</td>\n",
       "      <td>0</td>\n",
       "      <td>0</td>\n",
       "      <td>373450</td>\n",
       "      <td>8.0500</td>\n",
       "      <td>NaN</td>\n",
       "      <td>S</td>\n",
       "    </tr>\n",
       "  </tbody>\n",
       "</table>\n",
       "</div>"
      ],
      "text/plain": [
       "   PassengerId  Survived  Pclass  \\\n",
       "0            1         0       3   \n",
       "1            2         1       1   \n",
       "2            3         1       3   \n",
       "3            4         1       1   \n",
       "4            5         0       3   \n",
       "\n",
       "                                                Name     Sex   Age  SibSp  \\\n",
       "0                            Braund, Mr. Owen Harris    male  22.0      1   \n",
       "1  Cumings, Mrs. John Bradley (Florence Briggs Th...  female  38.0      1   \n",
       "2                             Heikkinen, Miss. Laina  female  26.0      0   \n",
       "3       Futrelle, Mrs. Jacques Heath (Lily May Peel)  female  35.0      1   \n",
       "4                           Allen, Mr. William Henry    male  35.0      0   \n",
       "\n",
       "   Parch            Ticket     Fare Cabin Embarked  \n",
       "0      0         A/5 21171   7.2500   NaN        S  \n",
       "1      0          PC 17599  71.2833   C85        C  \n",
       "2      0  STON/O2. 3101282   7.9250   NaN        S  \n",
       "3      0            113803  53.1000  C123        S  \n",
       "4      0            373450   8.0500   NaN        S  "
      ]
     },
     "execution_count": 3,
     "metadata": {},
     "output_type": "execute_result"
    }
   ],
   "source": [
    "df.head()"
   ]
  },
  {
   "cell_type": "markdown",
   "id": "94c1aacc",
   "metadata": {},
   "source": [
    "### 1"
   ]
  },
  {
   "cell_type": "code",
   "execution_count": 6,
   "id": "e46b7baf",
   "metadata": {},
   "outputs": [],
   "source": [
    "ages = df.Age.values"
   ]
  },
  {
   "cell_type": "code",
   "execution_count": 7,
   "id": "33ab5584",
   "metadata": {},
   "outputs": [],
   "source": [
    "fares = df.Fare.values"
   ]
  },
  {
   "cell_type": "code",
   "execution_count": 9,
   "id": "e558efdb",
   "metadata": {},
   "outputs": [
    {
     "data": {
      "text/plain": [
       "28.0"
      ]
     },
     "execution_count": 9,
     "metadata": {},
     "output_type": "execute_result"
    }
   ],
   "source": [
    "age_median = np.nanmedian(ages)\n",
    "age_median"
   ]
  },
  {
   "cell_type": "code",
   "execution_count": 12,
   "id": "9c99c252",
   "metadata": {},
   "outputs": [],
   "source": [
    "cleaned_ages = np.where(np.isnan(ages), age_median, ages)"
   ]
  },
  {
   "cell_type": "code",
   "execution_count": 15,
   "id": "8d636ca8",
   "metadata": {},
   "outputs": [],
   "source": [
    "fares_in_euros = fares * 1.18"
   ]
  },
  {
   "cell_type": "markdown",
   "id": "d2a948f4",
   "metadata": {},
   "source": [
    "### 2"
   ]
  },
  {
   "cell_type": "code",
   "execution_count": 16,
   "id": "afd4c79b",
   "metadata": {},
   "outputs": [
    {
     "data": {
      "text/plain": [
       "29.36158249158249"
      ]
     },
     "execution_count": 16,
     "metadata": {},
     "output_type": "execute_result"
    }
   ],
   "source": [
    "avg_age = np.average(cleaned_ages)\n",
    "avg_age"
   ]
  },
  {
   "cell_type": "code",
   "execution_count": 17,
   "id": "0e5365a1",
   "metadata": {},
   "outputs": [
    {
     "data": {
      "text/plain": [
       "13.012388272793666"
      ]
     },
     "execution_count": 17,
     "metadata": {},
     "output_type": "execute_result"
    }
   ],
   "source": [
    "age_std_dev = np.std(cleaned_ages)\n",
    "age_std_dev"
   ]
  },
  {
   "cell_type": "code",
   "execution_count": 18,
   "id": "3ab03a1b",
   "metadata": {},
   "outputs": [
    {
     "data": {
      "text/plain": [
       "0.42"
      ]
     },
     "execution_count": 18,
     "metadata": {},
     "output_type": "execute_result"
    }
   ],
   "source": [
    "min_age = np.min(cleaned_ages)\n",
    "min_age"
   ]
  },
  {
   "cell_type": "code",
   "execution_count": 19,
   "id": "deeb4994",
   "metadata": {},
   "outputs": [
    {
     "data": {
      "text/plain": [
       "80.0"
      ]
     },
     "execution_count": 19,
     "metadata": {},
     "output_type": "execute_result"
    }
   ],
   "source": [
    "max_age = np.max(cleaned_ages)\n",
    "max_age"
   ]
  },
  {
   "cell_type": "markdown",
   "id": "7e6ece7a",
   "metadata": {},
   "source": [
    "### 3"
   ]
  },
  {
   "cell_type": "code",
   "execution_count": null,
   "id": "60b2873b",
   "metadata": {},
   "outputs": [],
   "source": [
    "boolean_gt_50 = fares > 50"
   ]
  },
  {
   "cell_type": "code",
   "execution_count": 23,
   "id": "b14fdef2",
   "metadata": {},
   "outputs": [
    {
     "data": {
      "text/plain": [
       "160"
      ]
     },
     "execution_count": 23,
     "metadata": {},
     "output_type": "execute_result"
    }
   ],
   "source": [
    "count_gt_50 = len(fares[boolean_gt_50])\n",
    "count_gt_50"
   ]
  },
  {
   "cell_type": "code",
   "execution_count": 26,
   "id": "3c094179",
   "metadata": {},
   "outputs": [
    {
     "data": {
      "text/plain": [
       "array([38.  , 35.  , 54.  , 19.  , 28.  , 28.  , 42.  , 49.  , 65.  ,\n",
       "       38.  , 45.  , 21.  , 32.  , 23.  , 46.  , 23.  , 21.  , 47.  ,\n",
       "       24.  , 21.  , 54.  , 37.  , 24.  , 22.  , 51.  , 28.  , 28.  ,\n",
       "       28.  , 28.  , 58.  , 28.  , 31.  , 32.  , 38.  , 35.  , 44.  ,\n",
       "       37.  , 28.  , 30.  , 35.  , 52.  , 58.  , 35.  , 63.  , 26.  ,\n",
       "       19.  ,  2.  , 50.  ,  0.92, 28.  , 17.  , 30.  , 24.  , 18.  ,\n",
       "       31.  , 40.  , 28.  , 36.  , 16.  , 38.  , 28.  , 29.  , 41.  ,\n",
       "       24.  , 22.  , 60.  , 24.  , 25.  , 22.  , 28.  , 27.  , 42.  ,\n",
       "       35.  , 18.  , 36.  , 23.  , 33.  , 50.  , 14.  , 64.  ,  4.  ,\n",
       "       49.  , 28.  , 28.  , 25.  , 35.  , 54.  , 25.  , 16.  , 18.  ,\n",
       "       26.  , 54.  , 30.  , 44.  , 28.  , 30.  , 36.  , 50.  , 17.  ,\n",
       "       28.  , 39.  , 53.  , 39.  , 39.  , 18.  , 60.  , 52.  , 49.  ,\n",
       "       40.  , 24.  , 42.  , 21.  , 24.  , 28.  , 48.  , 24.  , 58.  ,\n",
       "       50.  , 32.  , 28.  , 31.  , 36.  , 27.  , 15.  , 31.  , 28.  ,\n",
       "       49.  , 18.  , 22.  , 48.  , 38.  , 27.  , 29.  , 35.  , 36.  ,\n",
       "       21.  , 70.  , 19.  , 48.  , 33.  , 36.  , 51.  , 43.  , 17.  ,\n",
       "       46.  , 28.  , 11.  , 33.  , 52.  , 28.  , 62.  , 39.  , 32.  ,\n",
       "       28.  , 28.  , 45.  , 28.  , 31.  , 47.  , 56.  ])"
      ]
     },
     "execution_count": 26,
     "metadata": {},
     "output_type": "execute_result"
    }
   ],
   "source": [
    "ages_gt_50 = cleaned_ages[boolean_gt_50]\n",
    "ages_gt_50"
   ]
  },
  {
   "cell_type": "markdown",
   "id": "731c0fa6",
   "metadata": {},
   "source": [
    "## Part 2"
   ]
  },
  {
   "cell_type": "markdown",
   "id": "5b74cb37",
   "metadata": {},
   "source": [
    "### 1"
   ]
  },
  {
   "cell_type": "code",
   "execution_count": 27,
   "id": "0e328a31",
   "metadata": {},
   "outputs": [
    {
     "data": {
      "application/vnd.microsoft.datawrangler.viewer.v0+json": {
       "columns": [
        {
         "name": "index",
         "rawType": "int64",
         "type": "integer"
        },
        {
         "name": "PassengerId",
         "rawType": "int64",
         "type": "integer"
        },
        {
         "name": "Survived",
         "rawType": "int64",
         "type": "integer"
        },
        {
         "name": "Pclass",
         "rawType": "int64",
         "type": "integer"
        },
        {
         "name": "Name",
         "rawType": "object",
         "type": "string"
        },
        {
         "name": "Sex",
         "rawType": "object",
         "type": "string"
        },
        {
         "name": "Age",
         "rawType": "float64",
         "type": "float"
        },
        {
         "name": "SibSp",
         "rawType": "int64",
         "type": "integer"
        },
        {
         "name": "Parch",
         "rawType": "int64",
         "type": "integer"
        },
        {
         "name": "Ticket",
         "rawType": "object",
         "type": "string"
        },
        {
         "name": "Fare",
         "rawType": "float64",
         "type": "float"
        },
        {
         "name": "Cabin",
         "rawType": "object",
         "type": "unknown"
        },
        {
         "name": "Embarked",
         "rawType": "object",
         "type": "string"
        }
       ],
       "ref": "6201721c-6af2-45be-b5a5-10e00efc778e",
       "rows": [
        [
         "886",
         "887",
         "0",
         "2",
         "Montvila, Rev. Juozas",
         "male",
         "27.0",
         "0",
         "0",
         "211536",
         "13.0",
         null,
         "S"
        ],
        [
         "887",
         "888",
         "1",
         "1",
         "Graham, Miss. Margaret Edith",
         "female",
         "19.0",
         "0",
         "0",
         "112053",
         "30.0",
         "B42",
         "S"
        ],
        [
         "888",
         "889",
         "0",
         "3",
         "Johnston, Miss. Catherine Helen \"Carrie\"",
         "female",
         null,
         "1",
         "2",
         "W./C. 6607",
         "23.45",
         null,
         "S"
        ],
        [
         "889",
         "890",
         "1",
         "1",
         "Behr, Mr. Karl Howell",
         "male",
         "26.0",
         "0",
         "0",
         "111369",
         "30.0",
         "C148",
         "C"
        ],
        [
         "890",
         "891",
         "0",
         "3",
         "Dooley, Mr. Patrick",
         "male",
         "32.0",
         "0",
         "0",
         "370376",
         "7.75",
         null,
         "Q"
        ]
       ],
       "shape": {
        "columns": 12,
        "rows": 5
       }
      },
      "text/html": [
       "<div>\n",
       "<style scoped>\n",
       "    .dataframe tbody tr th:only-of-type {\n",
       "        vertical-align: middle;\n",
       "    }\n",
       "\n",
       "    .dataframe tbody tr th {\n",
       "        vertical-align: top;\n",
       "    }\n",
       "\n",
       "    .dataframe thead th {\n",
       "        text-align: right;\n",
       "    }\n",
       "</style>\n",
       "<table border=\"1\" class=\"dataframe\">\n",
       "  <thead>\n",
       "    <tr style=\"text-align: right;\">\n",
       "      <th></th>\n",
       "      <th>PassengerId</th>\n",
       "      <th>Survived</th>\n",
       "      <th>Pclass</th>\n",
       "      <th>Name</th>\n",
       "      <th>Sex</th>\n",
       "      <th>Age</th>\n",
       "      <th>SibSp</th>\n",
       "      <th>Parch</th>\n",
       "      <th>Ticket</th>\n",
       "      <th>Fare</th>\n",
       "      <th>Cabin</th>\n",
       "      <th>Embarked</th>\n",
       "    </tr>\n",
       "  </thead>\n",
       "  <tbody>\n",
       "    <tr>\n",
       "      <th>886</th>\n",
       "      <td>887</td>\n",
       "      <td>0</td>\n",
       "      <td>2</td>\n",
       "      <td>Montvila, Rev. Juozas</td>\n",
       "      <td>male</td>\n",
       "      <td>27.0</td>\n",
       "      <td>0</td>\n",
       "      <td>0</td>\n",
       "      <td>211536</td>\n",
       "      <td>13.00</td>\n",
       "      <td>NaN</td>\n",
       "      <td>S</td>\n",
       "    </tr>\n",
       "    <tr>\n",
       "      <th>887</th>\n",
       "      <td>888</td>\n",
       "      <td>1</td>\n",
       "      <td>1</td>\n",
       "      <td>Graham, Miss. Margaret Edith</td>\n",
       "      <td>female</td>\n",
       "      <td>19.0</td>\n",
       "      <td>0</td>\n",
       "      <td>0</td>\n",
       "      <td>112053</td>\n",
       "      <td>30.00</td>\n",
       "      <td>B42</td>\n",
       "      <td>S</td>\n",
       "    </tr>\n",
       "    <tr>\n",
       "      <th>888</th>\n",
       "      <td>889</td>\n",
       "      <td>0</td>\n",
       "      <td>3</td>\n",
       "      <td>Johnston, Miss. Catherine Helen \"Carrie\"</td>\n",
       "      <td>female</td>\n",
       "      <td>NaN</td>\n",
       "      <td>1</td>\n",
       "      <td>2</td>\n",
       "      <td>W./C. 6607</td>\n",
       "      <td>23.45</td>\n",
       "      <td>NaN</td>\n",
       "      <td>S</td>\n",
       "    </tr>\n",
       "    <tr>\n",
       "      <th>889</th>\n",
       "      <td>890</td>\n",
       "      <td>1</td>\n",
       "      <td>1</td>\n",
       "      <td>Behr, Mr. Karl Howell</td>\n",
       "      <td>male</td>\n",
       "      <td>26.0</td>\n",
       "      <td>0</td>\n",
       "      <td>0</td>\n",
       "      <td>111369</td>\n",
       "      <td>30.00</td>\n",
       "      <td>C148</td>\n",
       "      <td>C</td>\n",
       "    </tr>\n",
       "    <tr>\n",
       "      <th>890</th>\n",
       "      <td>891</td>\n",
       "      <td>0</td>\n",
       "      <td>3</td>\n",
       "      <td>Dooley, Mr. Patrick</td>\n",
       "      <td>male</td>\n",
       "      <td>32.0</td>\n",
       "      <td>0</td>\n",
       "      <td>0</td>\n",
       "      <td>370376</td>\n",
       "      <td>7.75</td>\n",
       "      <td>NaN</td>\n",
       "      <td>Q</td>\n",
       "    </tr>\n",
       "  </tbody>\n",
       "</table>\n",
       "</div>"
      ],
      "text/plain": [
       "     PassengerId  Survived  Pclass                                      Name  \\\n",
       "886          887         0       2                     Montvila, Rev. Juozas   \n",
       "887          888         1       1              Graham, Miss. Margaret Edith   \n",
       "888          889         0       3  Johnston, Miss. Catherine Helen \"Carrie\"   \n",
       "889          890         1       1                     Behr, Mr. Karl Howell   \n",
       "890          891         0       3                       Dooley, Mr. Patrick   \n",
       "\n",
       "        Sex   Age  SibSp  Parch      Ticket   Fare Cabin Embarked  \n",
       "886    male  27.0      0      0      211536  13.00   NaN        S  \n",
       "887  female  19.0      0      0      112053  30.00   B42        S  \n",
       "888  female   NaN      1      2  W./C. 6607  23.45   NaN        S  \n",
       "889    male  26.0      0      0      111369  30.00  C148        C  \n",
       "890    male  32.0      0      0      370376   7.75   NaN        Q  "
      ]
     },
     "execution_count": 27,
     "metadata": {},
     "output_type": "execute_result"
    }
   ],
   "source": [
    "df = pd.read_csv(\"../datasets/titanic.csv\")\n",
    "df.tail()"
   ]
  },
  {
   "cell_type": "code",
   "execution_count": 28,
   "id": "368dc14b",
   "metadata": {},
   "outputs": [
    {
     "name": "stdout",
     "output_type": "stream",
     "text": [
      "<class 'pandas.core.frame.DataFrame'>\n",
      "RangeIndex: 891 entries, 0 to 890\n",
      "Data columns (total 12 columns):\n",
      " #   Column       Non-Null Count  Dtype  \n",
      "---  ------       --------------  -----  \n",
      " 0   PassengerId  891 non-null    int64  \n",
      " 1   Survived     891 non-null    int64  \n",
      " 2   Pclass       891 non-null    int64  \n",
      " 3   Name         891 non-null    object \n",
      " 4   Sex          891 non-null    object \n",
      " 5   Age          714 non-null    float64\n",
      " 6   SibSp        891 non-null    int64  \n",
      " 7   Parch        891 non-null    int64  \n",
      " 8   Ticket       891 non-null    object \n",
      " 9   Fare         891 non-null    float64\n",
      " 10  Cabin        204 non-null    object \n",
      " 11  Embarked     889 non-null    object \n",
      "dtypes: float64(2), int64(5), object(5)\n",
      "memory usage: 83.7+ KB\n"
     ]
    }
   ],
   "source": [
    "df.info()"
   ]
  },
  {
   "cell_type": "markdown",
   "id": "338a3022",
   "metadata": {},
   "source": [
    "### 2"
   ]
  },
  {
   "cell_type": "code",
   "execution_count": 29,
   "id": "98819939",
   "metadata": {},
   "outputs": [],
   "source": [
    "df.drop('Cabin', axis=1, inplace=True)"
   ]
  },
  {
   "cell_type": "code",
   "execution_count": 31,
   "id": "6e233959",
   "metadata": {},
   "outputs": [],
   "source": [
    "df['Age'].fillna(df['Age'].mean(), inplace=True)"
   ]
  },
  {
   "cell_type": "code",
   "execution_count": 35,
   "id": "ab8a199c",
   "metadata": {},
   "outputs": [],
   "source": [
    "df['Embarked'].fillna(df['Embarked'].mode()[0], inplace=True)"
   ]
  },
  {
   "cell_type": "code",
   "execution_count": 36,
   "id": "d4ebf2a3",
   "metadata": {},
   "outputs": [
    {
     "name": "stdout",
     "output_type": "stream",
     "text": [
      "<class 'pandas.core.frame.DataFrame'>\n",
      "RangeIndex: 891 entries, 0 to 890\n",
      "Data columns (total 11 columns):\n",
      " #   Column       Non-Null Count  Dtype  \n",
      "---  ------       --------------  -----  \n",
      " 0   PassengerId  891 non-null    int64  \n",
      " 1   Survived     891 non-null    int64  \n",
      " 2   Pclass       891 non-null    int64  \n",
      " 3   Name         891 non-null    object \n",
      " 4   Sex          891 non-null    object \n",
      " 5   Age          891 non-null    float64\n",
      " 6   SibSp        891 non-null    int64  \n",
      " 7   Parch        891 non-null    int64  \n",
      " 8   Ticket       891 non-null    object \n",
      " 9   Fare         891 non-null    float64\n",
      " 10  Embarked     891 non-null    object \n",
      "dtypes: float64(2), int64(5), object(4)\n",
      "memory usage: 76.7+ KB\n"
     ]
    }
   ],
   "source": [
    "df.info()"
   ]
  },
  {
   "cell_type": "markdown",
   "id": "cd072b2e",
   "metadata": {},
   "source": [
    "### 3"
   ]
  },
  {
   "cell_type": "code",
   "execution_count": 40,
   "id": "7a23a0f6",
   "metadata": {},
   "outputs": [],
   "source": [
    "df['FamilySize'] = df['SibSp'] + df['Parch'] + 1"
   ]
  },
  {
   "cell_type": "code",
   "execution_count": 42,
   "id": "274f5bf8",
   "metadata": {},
   "outputs": [],
   "source": [
    "bins = [0, 12, 19, 59, float('inf')]\n",
    "labels = [\"Child\", \"Teen\", \"Adult\", \"Senior\"]\n",
    "df[\"AgeGroup\"] = pd.cut(df[\"Age\"], bins=bins, labels=labels, right=True)"
   ]
  },
  {
   "cell_type": "markdown",
   "id": "3a8f2cf1",
   "metadata": {},
   "source": [
    "### 4"
   ]
  },
  {
   "cell_type": "code",
   "execution_count": 51,
   "id": "887cb7ad",
   "metadata": {},
   "outputs": [
    {
     "data": {
      "application/vnd.microsoft.datawrangler.viewer.v0+json": {
       "columns": [
        {
         "name": "index",
         "rawType": "int64",
         "type": "integer"
        },
        {
         "name": "Name",
         "rawType": "object",
         "type": "string"
        },
        {
         "name": "Sex",
         "rawType": "object",
         "type": "string"
        },
        {
         "name": "AgeGroup",
         "rawType": "category",
         "type": "unknown"
        }
       ],
       "ref": "8502aee1-07fd-4b1e-bd54-c29ebbb5585f",
       "rows": [
        [
         "1",
         "Cumings, Mrs. John Bradley (Florence Briggs Thayer)",
         "female",
         "Adult"
        ],
        [
         "2",
         "Heikkinen, Miss. Laina",
         "female",
         "Adult"
        ],
        [
         "3",
         "Futrelle, Mrs. Jacques Heath (Lily May Peel)",
         "female",
         "Adult"
        ],
        [
         "8",
         "Johnson, Mrs. Oscar W (Elisabeth Vilhelmina Berg)",
         "female",
         "Adult"
        ],
        [
         "9",
         "Nasser, Mrs. Nicholas (Adele Achem)",
         "female",
         "Teen"
        ],
        [
         "10",
         "Sandstrom, Miss. Marguerite Rut",
         "female",
         "Child"
        ],
        [
         "11",
         "Bonnell, Miss. Elizabeth",
         "female",
         "Adult"
        ],
        [
         "15",
         "Hewlett, Mrs. (Mary D Kingcome) ",
         "female",
         "Adult"
        ],
        [
         "17",
         "Williams, Mr. Charles Eugene",
         "male",
         "Adult"
        ],
        [
         "19",
         "Masselmani, Mrs. Fatima",
         "female",
         "Adult"
        ],
        [
         "21",
         "Beesley, Mr. Lawrence",
         "male",
         "Adult"
        ],
        [
         "22",
         "McGowan, Miss. Anna \"Annie\"",
         "female",
         "Teen"
        ],
        [
         "23",
         "Sloper, Mr. William Thompson",
         "male",
         "Adult"
        ],
        [
         "25",
         "Asplund, Mrs. Carl Oscar (Selma Augusta Emilia Johansson)",
         "female",
         "Adult"
        ],
        [
         "28",
         "O'Dwyer, Miss. Ellen \"Nellie\"",
         "female",
         "Adult"
        ],
        [
         "31",
         "Spencer, Mrs. William Augustus (Marie Eugenie)",
         "female",
         "Adult"
        ],
        [
         "32",
         "Glynn, Miss. Mary Agatha",
         "female",
         "Adult"
        ],
        [
         "36",
         "Mamee, Mr. Hanna",
         "male",
         "Adult"
        ],
        [
         "39",
         "Nicola-Yarred, Miss. Jamila",
         "female",
         "Teen"
        ],
        [
         "43",
         "Laroche, Miss. Simonne Marie Anne Andree",
         "female",
         "Child"
        ],
        [
         "44",
         "Devaney, Miss. Margaret Delia",
         "female",
         "Teen"
        ],
        [
         "47",
         "O'Driscoll, Miss. Bridget",
         "female",
         "Adult"
        ],
        [
         "52",
         "Harper, Mrs. Henry Sleeper (Myna Haxtun)",
         "female",
         "Adult"
        ],
        [
         "53",
         "Faunthorpe, Mrs. Lizzie (Elizabeth Anne Wilkinson)",
         "female",
         "Adult"
        ],
        [
         "55",
         "Woolner, Mr. Hugh",
         "male",
         "Adult"
        ],
        [
         "56",
         "Rugg, Miss. Emily",
         "female",
         "Adult"
        ],
        [
         "58",
         "West, Miss. Constance Mirium",
         "female",
         "Child"
        ],
        [
         "61",
         "Icard, Miss. Amelie",
         "female",
         "Adult"
        ],
        [
         "65",
         "Moubarek, Master. Gerios",
         "male",
         "Adult"
        ],
        [
         "66",
         "Nye, Mrs. (Elizabeth Ramell)",
         "female",
         "Adult"
        ],
        [
         "68",
         "Andersson, Miss. Erna Alexandra",
         "female",
         "Teen"
        ],
        [
         "74",
         "Bing, Mr. Lee",
         "male",
         "Adult"
        ],
        [
         "78",
         "Caldwell, Master. Alden Gates",
         "male",
         "Child"
        ],
        [
         "79",
         "Dowdell, Miss. Elizabeth",
         "female",
         "Adult"
        ],
        [
         "81",
         "Sheerlinck, Mr. Jan Baptist",
         "male",
         "Adult"
        ],
        [
         "82",
         "McDermott, Miss. Brigdet Delia",
         "female",
         "Adult"
        ],
        [
         "84",
         "Ilett, Miss. Bertha",
         "female",
         "Teen"
        ],
        [
         "85",
         "Backstrom, Mrs. Karl Alfred (Maria Mathilda Gustafsson)",
         "female",
         "Adult"
        ],
        [
         "88",
         "Fortune, Miss. Mabel Helen",
         "female",
         "Adult"
        ],
        [
         "97",
         "Greenfield, Mr. William Bertram",
         "male",
         "Adult"
        ],
        [
         "98",
         "Doling, Mrs. John T (Ada Julia Bone)",
         "female",
         "Adult"
        ],
        [
         "106",
         "Salkjelsvik, Miss. Anna Kristine",
         "female",
         "Adult"
        ],
        [
         "107",
         "Moss, Mr. Albert Johan",
         "male",
         "Adult"
        ],
        [
         "109",
         "Moran, Miss. Bertha",
         "female",
         "Adult"
        ],
        [
         "123",
         "Webber, Miss. Susan",
         "female",
         "Adult"
        ],
        [
         "125",
         "Nicola-Yarred, Master. Elias",
         "male",
         "Child"
        ],
        [
         "127",
         "Madsen, Mr. Fridtjof Arne",
         "male",
         "Adult"
        ],
        [
         "128",
         "Peter, Miss. Anna",
         "female",
         "Adult"
        ],
        [
         "133",
         "Weisz, Mrs. Leopold (Mathilde Francoise Pede)",
         "female",
         "Adult"
        ],
        [
         "136",
         "Newsom, Miss. Helen Monypeny",
         "female",
         "Teen"
        ]
       ],
       "shape": {
        "columns": 3,
        "rows": 342
       }
      },
      "text/html": [
       "<div>\n",
       "<style scoped>\n",
       "    .dataframe tbody tr th:only-of-type {\n",
       "        vertical-align: middle;\n",
       "    }\n",
       "\n",
       "    .dataframe tbody tr th {\n",
       "        vertical-align: top;\n",
       "    }\n",
       "\n",
       "    .dataframe thead th {\n",
       "        text-align: right;\n",
       "    }\n",
       "</style>\n",
       "<table border=\"1\" class=\"dataframe\">\n",
       "  <thead>\n",
       "    <tr style=\"text-align: right;\">\n",
       "      <th></th>\n",
       "      <th>Name</th>\n",
       "      <th>Sex</th>\n",
       "      <th>AgeGroup</th>\n",
       "    </tr>\n",
       "  </thead>\n",
       "  <tbody>\n",
       "    <tr>\n",
       "      <th>1</th>\n",
       "      <td>Cumings, Mrs. John Bradley (Florence Briggs Th...</td>\n",
       "      <td>female</td>\n",
       "      <td>Adult</td>\n",
       "    </tr>\n",
       "    <tr>\n",
       "      <th>2</th>\n",
       "      <td>Heikkinen, Miss. Laina</td>\n",
       "      <td>female</td>\n",
       "      <td>Adult</td>\n",
       "    </tr>\n",
       "    <tr>\n",
       "      <th>3</th>\n",
       "      <td>Futrelle, Mrs. Jacques Heath (Lily May Peel)</td>\n",
       "      <td>female</td>\n",
       "      <td>Adult</td>\n",
       "    </tr>\n",
       "    <tr>\n",
       "      <th>8</th>\n",
       "      <td>Johnson, Mrs. Oscar W (Elisabeth Vilhelmina Berg)</td>\n",
       "      <td>female</td>\n",
       "      <td>Adult</td>\n",
       "    </tr>\n",
       "    <tr>\n",
       "      <th>9</th>\n",
       "      <td>Nasser, Mrs. Nicholas (Adele Achem)</td>\n",
       "      <td>female</td>\n",
       "      <td>Teen</td>\n",
       "    </tr>\n",
       "    <tr>\n",
       "      <th>...</th>\n",
       "      <td>...</td>\n",
       "      <td>...</td>\n",
       "      <td>...</td>\n",
       "    </tr>\n",
       "    <tr>\n",
       "      <th>875</th>\n",
       "      <td>Najib, Miss. Adele Kiamie \"Jane\"</td>\n",
       "      <td>female</td>\n",
       "      <td>Teen</td>\n",
       "    </tr>\n",
       "    <tr>\n",
       "      <th>879</th>\n",
       "      <td>Potter, Mrs. Thomas Jr (Lily Alexenia Wilson)</td>\n",
       "      <td>female</td>\n",
       "      <td>Adult</td>\n",
       "    </tr>\n",
       "    <tr>\n",
       "      <th>880</th>\n",
       "      <td>Shelley, Mrs. William (Imanita Parrish Hall)</td>\n",
       "      <td>female</td>\n",
       "      <td>Adult</td>\n",
       "    </tr>\n",
       "    <tr>\n",
       "      <th>887</th>\n",
       "      <td>Graham, Miss. Margaret Edith</td>\n",
       "      <td>female</td>\n",
       "      <td>Teen</td>\n",
       "    </tr>\n",
       "    <tr>\n",
       "      <th>889</th>\n",
       "      <td>Behr, Mr. Karl Howell</td>\n",
       "      <td>male</td>\n",
       "      <td>Adult</td>\n",
       "    </tr>\n",
       "  </tbody>\n",
       "</table>\n",
       "<p>342 rows × 3 columns</p>\n",
       "</div>"
      ],
      "text/plain": [
       "                                                  Name     Sex AgeGroup\n",
       "1    Cumings, Mrs. John Bradley (Florence Briggs Th...  female    Adult\n",
       "2                               Heikkinen, Miss. Laina  female    Adult\n",
       "3         Futrelle, Mrs. Jacques Heath (Lily May Peel)  female    Adult\n",
       "8    Johnson, Mrs. Oscar W (Elisabeth Vilhelmina Berg)  female    Adult\n",
       "9                  Nasser, Mrs. Nicholas (Adele Achem)  female     Teen\n",
       "..                                                 ...     ...      ...\n",
       "875                   Najib, Miss. Adele Kiamie \"Jane\"  female     Teen\n",
       "879      Potter, Mrs. Thomas Jr (Lily Alexenia Wilson)  female    Adult\n",
       "880       Shelley, Mrs. William (Imanita Parrish Hall)  female    Adult\n",
       "887                       Graham, Miss. Margaret Edith  female     Teen\n",
       "889                              Behr, Mr. Karl Howell    male    Adult\n",
       "\n",
       "[342 rows x 3 columns]"
      ]
     },
     "execution_count": 51,
     "metadata": {},
     "output_type": "execute_result"
    }
   ],
   "source": [
    "df[df['Survived'] == 1][[\"Name\", \"Sex\", \"AgeGroup\"]]"
   ]
  },
  {
   "cell_type": "code",
   "execution_count": 54,
   "id": "769d154f",
   "metadata": {},
   "outputs": [
    {
     "data": {
      "application/vnd.microsoft.datawrangler.viewer.v0+json": {
       "columns": [
        {
         "name": "index",
         "rawType": "int64",
         "type": "integer"
        },
        {
         "name": "PassengerId",
         "rawType": "int64",
         "type": "integer"
        },
        {
         "name": "Survived",
         "rawType": "int64",
         "type": "integer"
        },
        {
         "name": "Pclass",
         "rawType": "int64",
         "type": "integer"
        },
        {
         "name": "Name",
         "rawType": "object",
         "type": "string"
        },
        {
         "name": "Sex",
         "rawType": "object",
         "type": "string"
        },
        {
         "name": "Age",
         "rawType": "float64",
         "type": "float"
        },
        {
         "name": "SibSp",
         "rawType": "int64",
         "type": "integer"
        },
        {
         "name": "Parch",
         "rawType": "int64",
         "type": "integer"
        },
        {
         "name": "Ticket",
         "rawType": "object",
         "type": "string"
        },
        {
         "name": "Fare",
         "rawType": "float64",
         "type": "float"
        },
        {
         "name": "Embarked",
         "rawType": "object",
         "type": "string"
        },
        {
         "name": "FamilySize",
         "rawType": "int64",
         "type": "integer"
        },
        {
         "name": "AgeGroup",
         "rawType": "category",
         "type": "unknown"
        }
       ],
       "ref": "036ac010-54e2-45c4-b3a6-fbc4eaf83b22",
       "rows": [
        [
         "1",
         "2",
         "1",
         "1",
         "Cumings, Mrs. John Bradley (Florence Briggs Thayer)",
         "female",
         "38.0",
         "1",
         "0",
         "PC 17599",
         "71.2833",
         "C",
         "2",
         "Adult"
        ],
        [
         "3",
         "4",
         "1",
         "1",
         "Futrelle, Mrs. Jacques Heath (Lily May Peel)",
         "female",
         "35.0",
         "1",
         "0",
         "113803",
         "53.1",
         "S",
         "2",
         "Adult"
        ],
        [
         "11",
         "12",
         "1",
         "1",
         "Bonnell, Miss. Elizabeth",
         "female",
         "58.0",
         "0",
         "0",
         "113783",
         "26.55",
         "S",
         "1",
         "Adult"
        ],
        [
         "31",
         "32",
         "1",
         "1",
         "Spencer, Mrs. William Augustus (Marie Eugenie)",
         "female",
         "29.69911764705882",
         "1",
         "0",
         "PC 17569",
         "146.5208",
         "C",
         "2",
         "Adult"
        ],
        [
         "52",
         "53",
         "1",
         "1",
         "Harper, Mrs. Henry Sleeper (Myna Haxtun)",
         "female",
         "49.0",
         "1",
         "0",
         "PC 17572",
         "76.7292",
         "C",
         "2",
         "Adult"
        ],
        [
         "61",
         "62",
         "1",
         "1",
         "Icard, Miss. Amelie",
         "female",
         "38.0",
         "0",
         "0",
         "113572",
         "80.0",
         "S",
         "1",
         "Adult"
        ],
        [
         "88",
         "89",
         "1",
         "1",
         "Fortune, Miss. Mabel Helen",
         "female",
         "23.0",
         "3",
         "2",
         "19950",
         "263.0",
         "S",
         "6",
         "Adult"
        ],
        [
         "136",
         "137",
         "1",
         "1",
         "Newsom, Miss. Helen Monypeny",
         "female",
         "19.0",
         "0",
         "2",
         "11752",
         "26.2833",
         "S",
         "3",
         "Teen"
        ],
        [
         "151",
         "152",
         "1",
         "1",
         "Pears, Mrs. Thomas (Edith Wearne)",
         "female",
         "22.0",
         "1",
         "0",
         "113776",
         "66.6",
         "S",
         "2",
         "Adult"
        ],
        [
         "166",
         "167",
         "1",
         "1",
         "Chibnall, Mrs. (Edith Martha Bowerman)",
         "female",
         "29.69911764705882",
         "0",
         "1",
         "113505",
         "55.0",
         "S",
         "2",
         "Adult"
        ],
        [
         "177",
         "178",
         "0",
         "1",
         "Isham, Miss. Ann Elizabeth",
         "female",
         "50.0",
         "0",
         "0",
         "PC 17595",
         "28.7125",
         "C",
         "1",
         "Adult"
        ],
        [
         "194",
         "195",
         "1",
         "1",
         "Brown, Mrs. James Joseph (Margaret Tobin)",
         "female",
         "44.0",
         "0",
         "0",
         "PC 17610",
         "27.7208",
         "C",
         "1",
         "Adult"
        ],
        [
         "195",
         "196",
         "1",
         "1",
         "Lurette, Miss. Elise",
         "female",
         "58.0",
         "0",
         "0",
         "PC 17569",
         "146.5208",
         "C",
         "1",
         "Adult"
        ],
        [
         "215",
         "216",
         "1",
         "1",
         "Newell, Miss. Madeleine",
         "female",
         "31.0",
         "1",
         "0",
         "35273",
         "113.275",
         "C",
         "2",
         "Adult"
        ],
        [
         "218",
         "219",
         "1",
         "1",
         "Bazzani, Miss. Albina",
         "female",
         "32.0",
         "0",
         "0",
         "11813",
         "76.2917",
         "C",
         "1",
         "Adult"
        ],
        [
         "230",
         "231",
         "1",
         "1",
         "Harris, Mrs. Henry Birkhardt (Irene Wallach)",
         "female",
         "35.0",
         "1",
         "0",
         "36973",
         "83.475",
         "S",
         "2",
         "Adult"
        ],
        [
         "256",
         "257",
         "1",
         "1",
         "Thorne, Mrs. Gertrude Maybelle",
         "female",
         "29.69911764705882",
         "0",
         "0",
         "PC 17585",
         "79.2",
         "C",
         "1",
         "Adult"
        ],
        [
         "257",
         "258",
         "1",
         "1",
         "Cherry, Miss. Gladys",
         "female",
         "30.0",
         "0",
         "0",
         "110152",
         "86.5",
         "S",
         "1",
         "Adult"
        ],
        [
         "258",
         "259",
         "1",
         "1",
         "Ward, Miss. Anna",
         "female",
         "35.0",
         "0",
         "0",
         "PC 17755",
         "512.3292",
         "C",
         "1",
         "Adult"
        ],
        [
         "268",
         "269",
         "1",
         "1",
         "Graham, Mrs. William Thompson (Edith Junkins)",
         "female",
         "58.0",
         "0",
         "1",
         "PC 17582",
         "153.4625",
         "S",
         "2",
         "Adult"
        ],
        [
         "269",
         "270",
         "1",
         "1",
         "Bissette, Miss. Amelia",
         "female",
         "35.0",
         "0",
         "0",
         "PC 17760",
         "135.6333",
         "S",
         "1",
         "Adult"
        ],
        [
         "275",
         "276",
         "1",
         "1",
         "Andrews, Miss. Kornelia Theodosia",
         "female",
         "63.0",
         "1",
         "0",
         "13502",
         "77.9583",
         "S",
         "2",
         "Senior"
        ],
        [
         "290",
         "291",
         "1",
         "1",
         "Barber, Miss. Ellen \"Nellie\"",
         "female",
         "26.0",
         "0",
         "0",
         "19877",
         "78.85",
         "S",
         "1",
         "Adult"
        ],
        [
         "291",
         "292",
         "1",
         "1",
         "Bishop, Mrs. Dickinson H (Helen Walton)",
         "female",
         "19.0",
         "1",
         "0",
         "11967",
         "91.0792",
         "C",
         "2",
         "Teen"
        ],
        [
         "297",
         "298",
         "0",
         "1",
         "Allison, Miss. Helen Loraine",
         "female",
         "2.0",
         "1",
         "2",
         "113781",
         "151.55",
         "S",
         "4",
         "Child"
        ],
        [
         "299",
         "300",
         "1",
         "1",
         "Baxter, Mrs. James (Helene DeLaudeniere Chaput)",
         "female",
         "50.0",
         "0",
         "1",
         "PC 17558",
         "247.5208",
         "C",
         "2",
         "Adult"
        ],
        [
         "306",
         "307",
         "1",
         "1",
         "Fleming, Miss. Margaret",
         "female",
         "29.69911764705882",
         "0",
         "0",
         "17421",
         "110.8833",
         "C",
         "1",
         "Adult"
        ],
        [
         "307",
         "308",
         "1",
         "1",
         "Penasco y Castellana, Mrs. Victor de Satode (Maria Josefa Perez de Soto y Vallejo)",
         "female",
         "17.0",
         "1",
         "0",
         "PC 17758",
         "108.9",
         "C",
         "2",
         "Teen"
        ],
        [
         "309",
         "310",
         "1",
         "1",
         "Francatelli, Miss. Laura Mabel",
         "female",
         "30.0",
         "0",
         "0",
         "PC 17485",
         "56.9292",
         "C",
         "1",
         "Adult"
        ],
        [
         "310",
         "311",
         "1",
         "1",
         "Hays, Miss. Margaret Bechstein",
         "female",
         "24.0",
         "0",
         "0",
         "11767",
         "83.1583",
         "C",
         "1",
         "Adult"
        ],
        [
         "311",
         "312",
         "1",
         "1",
         "Ryerson, Miss. Emily Borie",
         "female",
         "18.0",
         "2",
         "2",
         "PC 17608",
         "262.375",
         "C",
         "5",
         "Teen"
        ],
        [
         "318",
         "319",
         "1",
         "1",
         "Wick, Miss. Mary Natalie",
         "female",
         "31.0",
         "0",
         "2",
         "36928",
         "164.8667",
         "S",
         "3",
         "Adult"
        ],
        [
         "319",
         "320",
         "1",
         "1",
         "Spedden, Mrs. Frederic Oakley (Margaretta Corning Stone)",
         "female",
         "40.0",
         "1",
         "1",
         "16966",
         "134.5",
         "C",
         "3",
         "Adult"
        ],
        [
         "325",
         "326",
         "1",
         "1",
         "Young, Miss. Marie Grice",
         "female",
         "36.0",
         "0",
         "0",
         "PC 17760",
         "135.6333",
         "C",
         "1",
         "Adult"
        ],
        [
         "329",
         "330",
         "1",
         "1",
         "Hippach, Miss. Jean Gertrude",
         "female",
         "16.0",
         "0",
         "1",
         "111361",
         "57.9792",
         "C",
         "2",
         "Teen"
        ],
        [
         "334",
         "335",
         "1",
         "1",
         "Frauenthal, Mrs. Henry William (Clara Heinsheimer)",
         "female",
         "29.69911764705882",
         "1",
         "0",
         "PC 17611",
         "133.65",
         "S",
         "2",
         "Adult"
        ],
        [
         "337",
         "338",
         "1",
         "1",
         "Burns, Miss. Elizabeth Margaret",
         "female",
         "41.0",
         "0",
         "0",
         "16966",
         "134.5",
         "C",
         "1",
         "Adult"
        ],
        [
         "341",
         "342",
         "1",
         "1",
         "Fortune, Miss. Alice Elizabeth",
         "female",
         "24.0",
         "3",
         "2",
         "19950",
         "263.0",
         "S",
         "6",
         "Adult"
        ],
        [
         "356",
         "357",
         "1",
         "1",
         "Bowerman, Miss. Elsie Edith",
         "female",
         "22.0",
         "0",
         "1",
         "113505",
         "55.0",
         "S",
         "2",
         "Adult"
        ],
        [
         "366",
         "367",
         "1",
         "1",
         "Warren, Mrs. Frank Manley (Anna Sophia Atkinson)",
         "female",
         "60.0",
         "1",
         "0",
         "110813",
         "75.25",
         "C",
         "2",
         "Senior"
        ],
        [
         "369",
         "370",
         "1",
         "1",
         "Aubart, Mme. Leontine Pauline",
         "female",
         "24.0",
         "0",
         "0",
         "PC 17477",
         "69.3",
         "C",
         "1",
         "Adult"
        ],
        [
         "375",
         "376",
         "1",
         "1",
         "Meyer, Mrs. Edgar Joseph (Leila Saks)",
         "female",
         "29.69911764705882",
         "1",
         "0",
         "PC 17604",
         "82.1708",
         "C",
         "2",
         "Adult"
        ],
        [
         "380",
         "381",
         "1",
         "1",
         "Bidois, Miss. Rosalie",
         "female",
         "42.0",
         "0",
         "0",
         "PC 17757",
         "227.525",
         "C",
         "1",
         "Adult"
        ],
        [
         "383",
         "384",
         "1",
         "1",
         "Holverson, Mrs. Alexander Oskar (Mary Aline Towner)",
         "female",
         "35.0",
         "1",
         "0",
         "113789",
         "52.0",
         "S",
         "2",
         "Adult"
        ],
        [
         "393",
         "394",
         "1",
         "1",
         "Newell, Miss. Marjorie",
         "female",
         "23.0",
         "1",
         "0",
         "35273",
         "113.275",
         "C",
         "2",
         "Adult"
        ],
        [
         "412",
         "413",
         "1",
         "1",
         "Minahan, Miss. Daisy E",
         "female",
         "33.0",
         "1",
         "0",
         "19928",
         "90.0",
         "Q",
         "2",
         "Adult"
        ],
        [
         "435",
         "436",
         "1",
         "1",
         "Carter, Miss. Lucile Polk",
         "female",
         "14.0",
         "1",
         "2",
         "113760",
         "120.0",
         "S",
         "4",
         "Teen"
        ],
        [
         "457",
         "458",
         "1",
         "1",
         "Kenyon, Mrs. Frederick R (Marion)",
         "female",
         "29.69911764705882",
         "1",
         "0",
         "17464",
         "51.8625",
         "S",
         "2",
         "Adult"
        ],
        [
         "486",
         "487",
         "1",
         "1",
         "Hoyt, Mrs. Frederick Maxfield (Jane Anne Forby)",
         "female",
         "35.0",
         "1",
         "0",
         "19943",
         "90.0",
         "S",
         "2",
         "Adult"
        ],
        [
         "496",
         "497",
         "1",
         "1",
         "Eustis, Miss. Elizabeth Mussey",
         "female",
         "54.0",
         "1",
         "0",
         "36947",
         "78.2667",
         "C",
         "2",
         "Adult"
        ]
       ],
       "shape": {
        "columns": 13,
        "rows": 94
       }
      },
      "text/html": [
       "<div>\n",
       "<style scoped>\n",
       "    .dataframe tbody tr th:only-of-type {\n",
       "        vertical-align: middle;\n",
       "    }\n",
       "\n",
       "    .dataframe tbody tr th {\n",
       "        vertical-align: top;\n",
       "    }\n",
       "\n",
       "    .dataframe thead th {\n",
       "        text-align: right;\n",
       "    }\n",
       "</style>\n",
       "<table border=\"1\" class=\"dataframe\">\n",
       "  <thead>\n",
       "    <tr style=\"text-align: right;\">\n",
       "      <th></th>\n",
       "      <th>PassengerId</th>\n",
       "      <th>Survived</th>\n",
       "      <th>Pclass</th>\n",
       "      <th>Name</th>\n",
       "      <th>Sex</th>\n",
       "      <th>Age</th>\n",
       "      <th>SibSp</th>\n",
       "      <th>Parch</th>\n",
       "      <th>Ticket</th>\n",
       "      <th>Fare</th>\n",
       "      <th>Embarked</th>\n",
       "      <th>FamilySize</th>\n",
       "      <th>AgeGroup</th>\n",
       "    </tr>\n",
       "  </thead>\n",
       "  <tbody>\n",
       "    <tr>\n",
       "      <th>1</th>\n",
       "      <td>2</td>\n",
       "      <td>1</td>\n",
       "      <td>1</td>\n",
       "      <td>Cumings, Mrs. John Bradley (Florence Briggs Th...</td>\n",
       "      <td>female</td>\n",
       "      <td>38.000000</td>\n",
       "      <td>1</td>\n",
       "      <td>0</td>\n",
       "      <td>PC 17599</td>\n",
       "      <td>71.2833</td>\n",
       "      <td>C</td>\n",
       "      <td>2</td>\n",
       "      <td>Adult</td>\n",
       "    </tr>\n",
       "    <tr>\n",
       "      <th>3</th>\n",
       "      <td>4</td>\n",
       "      <td>1</td>\n",
       "      <td>1</td>\n",
       "      <td>Futrelle, Mrs. Jacques Heath (Lily May Peel)</td>\n",
       "      <td>female</td>\n",
       "      <td>35.000000</td>\n",
       "      <td>1</td>\n",
       "      <td>0</td>\n",
       "      <td>113803</td>\n",
       "      <td>53.1000</td>\n",
       "      <td>S</td>\n",
       "      <td>2</td>\n",
       "      <td>Adult</td>\n",
       "    </tr>\n",
       "    <tr>\n",
       "      <th>11</th>\n",
       "      <td>12</td>\n",
       "      <td>1</td>\n",
       "      <td>1</td>\n",
       "      <td>Bonnell, Miss. Elizabeth</td>\n",
       "      <td>female</td>\n",
       "      <td>58.000000</td>\n",
       "      <td>0</td>\n",
       "      <td>0</td>\n",
       "      <td>113783</td>\n",
       "      <td>26.5500</td>\n",
       "      <td>S</td>\n",
       "      <td>1</td>\n",
       "      <td>Adult</td>\n",
       "    </tr>\n",
       "    <tr>\n",
       "      <th>31</th>\n",
       "      <td>32</td>\n",
       "      <td>1</td>\n",
       "      <td>1</td>\n",
       "      <td>Spencer, Mrs. William Augustus (Marie Eugenie)</td>\n",
       "      <td>female</td>\n",
       "      <td>29.699118</td>\n",
       "      <td>1</td>\n",
       "      <td>0</td>\n",
       "      <td>PC 17569</td>\n",
       "      <td>146.5208</td>\n",
       "      <td>C</td>\n",
       "      <td>2</td>\n",
       "      <td>Adult</td>\n",
       "    </tr>\n",
       "    <tr>\n",
       "      <th>52</th>\n",
       "      <td>53</td>\n",
       "      <td>1</td>\n",
       "      <td>1</td>\n",
       "      <td>Harper, Mrs. Henry Sleeper (Myna Haxtun)</td>\n",
       "      <td>female</td>\n",
       "      <td>49.000000</td>\n",
       "      <td>1</td>\n",
       "      <td>0</td>\n",
       "      <td>PC 17572</td>\n",
       "      <td>76.7292</td>\n",
       "      <td>C</td>\n",
       "      <td>2</td>\n",
       "      <td>Adult</td>\n",
       "    </tr>\n",
       "    <tr>\n",
       "      <th>...</th>\n",
       "      <td>...</td>\n",
       "      <td>...</td>\n",
       "      <td>...</td>\n",
       "      <td>...</td>\n",
       "      <td>...</td>\n",
       "      <td>...</td>\n",
       "      <td>...</td>\n",
       "      <td>...</td>\n",
       "      <td>...</td>\n",
       "      <td>...</td>\n",
       "      <td>...</td>\n",
       "      <td>...</td>\n",
       "      <td>...</td>\n",
       "    </tr>\n",
       "    <tr>\n",
       "      <th>856</th>\n",
       "      <td>857</td>\n",
       "      <td>1</td>\n",
       "      <td>1</td>\n",
       "      <td>Wick, Mrs. George Dennick (Mary Hitchcock)</td>\n",
       "      <td>female</td>\n",
       "      <td>45.000000</td>\n",
       "      <td>1</td>\n",
       "      <td>1</td>\n",
       "      <td>36928</td>\n",
       "      <td>164.8667</td>\n",
       "      <td>S</td>\n",
       "      <td>3</td>\n",
       "      <td>Adult</td>\n",
       "    </tr>\n",
       "    <tr>\n",
       "      <th>862</th>\n",
       "      <td>863</td>\n",
       "      <td>1</td>\n",
       "      <td>1</td>\n",
       "      <td>Swift, Mrs. Frederick Joel (Margaret Welles Ba...</td>\n",
       "      <td>female</td>\n",
       "      <td>48.000000</td>\n",
       "      <td>0</td>\n",
       "      <td>0</td>\n",
       "      <td>17466</td>\n",
       "      <td>25.9292</td>\n",
       "      <td>S</td>\n",
       "      <td>1</td>\n",
       "      <td>Adult</td>\n",
       "    </tr>\n",
       "    <tr>\n",
       "      <th>871</th>\n",
       "      <td>872</td>\n",
       "      <td>1</td>\n",
       "      <td>1</td>\n",
       "      <td>Beckwith, Mrs. Richard Leonard (Sallie Monypeny)</td>\n",
       "      <td>female</td>\n",
       "      <td>47.000000</td>\n",
       "      <td>1</td>\n",
       "      <td>1</td>\n",
       "      <td>11751</td>\n",
       "      <td>52.5542</td>\n",
       "      <td>S</td>\n",
       "      <td>3</td>\n",
       "      <td>Adult</td>\n",
       "    </tr>\n",
       "    <tr>\n",
       "      <th>879</th>\n",
       "      <td>880</td>\n",
       "      <td>1</td>\n",
       "      <td>1</td>\n",
       "      <td>Potter, Mrs. Thomas Jr (Lily Alexenia Wilson)</td>\n",
       "      <td>female</td>\n",
       "      <td>56.000000</td>\n",
       "      <td>0</td>\n",
       "      <td>1</td>\n",
       "      <td>11767</td>\n",
       "      <td>83.1583</td>\n",
       "      <td>C</td>\n",
       "      <td>2</td>\n",
       "      <td>Adult</td>\n",
       "    </tr>\n",
       "    <tr>\n",
       "      <th>887</th>\n",
       "      <td>888</td>\n",
       "      <td>1</td>\n",
       "      <td>1</td>\n",
       "      <td>Graham, Miss. Margaret Edith</td>\n",
       "      <td>female</td>\n",
       "      <td>19.000000</td>\n",
       "      <td>0</td>\n",
       "      <td>0</td>\n",
       "      <td>112053</td>\n",
       "      <td>30.0000</td>\n",
       "      <td>S</td>\n",
       "      <td>1</td>\n",
       "      <td>Teen</td>\n",
       "    </tr>\n",
       "  </tbody>\n",
       "</table>\n",
       "<p>94 rows × 13 columns</p>\n",
       "</div>"
      ],
      "text/plain": [
       "     PassengerId  Survived  Pclass  \\\n",
       "1              2         1       1   \n",
       "3              4         1       1   \n",
       "11            12         1       1   \n",
       "31            32         1       1   \n",
       "52            53         1       1   \n",
       "..           ...       ...     ...   \n",
       "856          857         1       1   \n",
       "862          863         1       1   \n",
       "871          872         1       1   \n",
       "879          880         1       1   \n",
       "887          888         1       1   \n",
       "\n",
       "                                                  Name     Sex        Age  \\\n",
       "1    Cumings, Mrs. John Bradley (Florence Briggs Th...  female  38.000000   \n",
       "3         Futrelle, Mrs. Jacques Heath (Lily May Peel)  female  35.000000   \n",
       "11                            Bonnell, Miss. Elizabeth  female  58.000000   \n",
       "31      Spencer, Mrs. William Augustus (Marie Eugenie)  female  29.699118   \n",
       "52            Harper, Mrs. Henry Sleeper (Myna Haxtun)  female  49.000000   \n",
       "..                                                 ...     ...        ...   \n",
       "856         Wick, Mrs. George Dennick (Mary Hitchcock)  female  45.000000   \n",
       "862  Swift, Mrs. Frederick Joel (Margaret Welles Ba...  female  48.000000   \n",
       "871   Beckwith, Mrs. Richard Leonard (Sallie Monypeny)  female  47.000000   \n",
       "879      Potter, Mrs. Thomas Jr (Lily Alexenia Wilson)  female  56.000000   \n",
       "887                       Graham, Miss. Margaret Edith  female  19.000000   \n",
       "\n",
       "     SibSp  Parch    Ticket      Fare Embarked  FamilySize AgeGroup  \n",
       "1        1      0  PC 17599   71.2833        C           2    Adult  \n",
       "3        1      0    113803   53.1000        S           2    Adult  \n",
       "11       0      0    113783   26.5500        S           1    Adult  \n",
       "31       1      0  PC 17569  146.5208        C           2    Adult  \n",
       "52       1      0  PC 17572   76.7292        C           2    Adult  \n",
       "..     ...    ...       ...       ...      ...         ...      ...  \n",
       "856      1      1     36928  164.8667        S           3    Adult  \n",
       "862      0      0     17466   25.9292        S           1    Adult  \n",
       "871      1      1     11751   52.5542        S           3    Adult  \n",
       "879      0      1     11767   83.1583        C           2    Adult  \n",
       "887      0      0    112053   30.0000        S           1     Teen  \n",
       "\n",
       "[94 rows x 13 columns]"
      ]
     },
     "execution_count": 54,
     "metadata": {},
     "output_type": "execute_result"
    }
   ],
   "source": [
    "df[(df['Sex'] == 'female') & (df['Pclass'] == 1)]"
   ]
  },
  {
   "cell_type": "code",
   "execution_count": 55,
   "id": "c14742e8",
   "metadata": {},
   "outputs": [
    {
     "data": {
      "application/vnd.microsoft.datawrangler.viewer.v0+json": {
       "columns": [
        {
         "name": "index",
         "rawType": "int64",
         "type": "integer"
        },
        {
         "name": "PassengerId",
         "rawType": "int64",
         "type": "integer"
        },
        {
         "name": "Survived",
         "rawType": "int64",
         "type": "integer"
        },
        {
         "name": "Pclass",
         "rawType": "int64",
         "type": "integer"
        },
        {
         "name": "Name",
         "rawType": "object",
         "type": "string"
        },
        {
         "name": "Sex",
         "rawType": "object",
         "type": "string"
        },
        {
         "name": "Age",
         "rawType": "float64",
         "type": "float"
        },
        {
         "name": "SibSp",
         "rawType": "int64",
         "type": "integer"
        },
        {
         "name": "Parch",
         "rawType": "int64",
         "type": "integer"
        },
        {
         "name": "Ticket",
         "rawType": "object",
         "type": "string"
        },
        {
         "name": "Fare",
         "rawType": "float64",
         "type": "float"
        },
        {
         "name": "Embarked",
         "rawType": "object",
         "type": "string"
        },
        {
         "name": "FamilySize",
         "rawType": "int64",
         "type": "integer"
        },
        {
         "name": "AgeGroup",
         "rawType": "category",
         "type": "unknown"
        }
       ],
       "ref": "b0cda810-8b38-462e-b1b8-787bfb0a9999",
       "rows": [
        [
         "0",
         "1",
         "0",
         "3",
         "Braund, Mr. Owen Harris",
         "male",
         "22.0",
         "1",
         "0",
         "A/5 21171",
         "7.25",
         "S",
         "2",
         "Adult"
        ],
        [
         "2",
         "3",
         "1",
         "3",
         "Heikkinen, Miss. Laina",
         "female",
         "26.0",
         "0",
         "0",
         "STON/O2. 3101282",
         "7.925",
         "S",
         "1",
         "Adult"
        ],
        [
         "4",
         "5",
         "0",
         "3",
         "Allen, Mr. William Henry",
         "male",
         "35.0",
         "0",
         "0",
         "373450",
         "8.05",
         "S",
         "1",
         "Adult"
        ],
        [
         "12",
         "13",
         "0",
         "3",
         "Saundercock, Mr. William Henry",
         "male",
         "20.0",
         "0",
         "0",
         "A/5. 2151",
         "8.05",
         "S",
         "1",
         "Adult"
        ],
        [
         "14",
         "15",
         "0",
         "3",
         "Vestrom, Miss. Hulda Amanda Adolfina",
         "female",
         "14.0",
         "0",
         "0",
         "350406",
         "7.8542",
         "S",
         "1",
         "Teen"
        ],
        [
         "29",
         "30",
         "0",
         "3",
         "Todoroff, Mr. Lalio",
         "male",
         "29.69911764705882",
         "0",
         "0",
         "349216",
         "7.8958",
         "S",
         "1",
         "Adult"
        ],
        [
         "37",
         "38",
         "0",
         "3",
         "Cann, Mr. Ernest Charles",
         "male",
         "21.0",
         "0",
         "0",
         "A./5. 2152",
         "8.05",
         "S",
         "1",
         "Adult"
        ],
        [
         "40",
         "41",
         "0",
         "3",
         "Ahlin, Mrs. Johan (Johanna Persdotter Larsson)",
         "female",
         "40.0",
         "1",
         "0",
         "7546",
         "9.475",
         "S",
         "2",
         "Adult"
        ],
        [
         "45",
         "46",
         "0",
         "3",
         "Rogers, Mr. William John",
         "male",
         "29.69911764705882",
         "0",
         "0",
         "S.C./A.4. 23567",
         "8.05",
         "S",
         "1",
         "Adult"
        ],
        [
         "51",
         "52",
         "0",
         "3",
         "Nosworthy, Mr. Richard Cater",
         "male",
         "21.0",
         "0",
         "0",
         "A/4. 39886",
         "7.8",
         "S",
         "1",
         "Adult"
        ],
        [
         "67",
         "68",
         "0",
         "3",
         "Crease, Mr. Ernest James",
         "male",
         "19.0",
         "0",
         "0",
         "S.P. 3464",
         "8.1583",
         "S",
         "1",
         "Teen"
        ],
        [
         "68",
         "69",
         "1",
         "3",
         "Andersson, Miss. Erna Alexandra",
         "female",
         "17.0",
         "4",
         "2",
         "3101281",
         "7.925",
         "S",
         "7",
         "Teen"
        ],
        [
         "69",
         "70",
         "0",
         "3",
         "Kink, Mr. Vincenz",
         "male",
         "26.0",
         "2",
         "0",
         "315151",
         "8.6625",
         "S",
         "3",
         "Adult"
        ],
        [
         "75",
         "76",
         "0",
         "3",
         "Moen, Mr. Sigurd Hansen",
         "male",
         "25.0",
         "0",
         "0",
         "348123",
         "7.65",
         "S",
         "1",
         "Adult"
        ],
        [
         "76",
         "77",
         "0",
         "3",
         "Staneff, Mr. Ivan",
         "male",
         "29.69911764705882",
         "0",
         "0",
         "349208",
         "7.8958",
         "S",
         "1",
         "Adult"
        ],
        [
         "77",
         "78",
         "0",
         "3",
         "Moutal, Mr. Rahamin Haim",
         "male",
         "29.69911764705882",
         "0",
         "0",
         "374746",
         "8.05",
         "S",
         "1",
         "Adult"
        ],
        [
         "80",
         "81",
         "0",
         "3",
         "Waelens, Mr. Achille",
         "male",
         "22.0",
         "0",
         "0",
         "345767",
         "9.0",
         "S",
         "1",
         "Adult"
        ],
        [
         "81",
         "82",
         "1",
         "3",
         "Sheerlinck, Mr. Jan Baptist",
         "male",
         "29.0",
         "0",
         "0",
         "345779",
         "9.5",
         "S",
         "1",
         "Adult"
        ],
        [
         "87",
         "88",
         "0",
         "3",
         "Slocovski, Mr. Selman Francis",
         "male",
         "29.69911764705882",
         "0",
         "0",
         "SOTON/OQ 392086",
         "8.05",
         "S",
         "1",
         "Adult"
        ],
        [
         "89",
         "90",
         "0",
         "3",
         "Celotti, Mr. Francesco",
         "male",
         "24.0",
         "0",
         "0",
         "343275",
         "8.05",
         "S",
         "1",
         "Adult"
        ],
        [
         "90",
         "91",
         "0",
         "3",
         "Christmann, Mr. Emil",
         "male",
         "29.0",
         "0",
         "0",
         "343276",
         "8.05",
         "S",
         "1",
         "Adult"
        ],
        [
         "91",
         "92",
         "0",
         "3",
         "Andreasson, Mr. Paul Edvin",
         "male",
         "20.0",
         "0",
         "0",
         "347466",
         "7.8542",
         "S",
         "1",
         "Adult"
        ],
        [
         "94",
         "95",
         "0",
         "3",
         "Coxon, Mr. Daniel",
         "male",
         "59.0",
         "0",
         "0",
         "364500",
         "7.25",
         "S",
         "1",
         "Adult"
        ],
        [
         "95",
         "96",
         "0",
         "3",
         "Shorney, Mr. Charles Joseph",
         "male",
         "29.69911764705882",
         "0",
         "0",
         "374910",
         "8.05",
         "S",
         "1",
         "Adult"
        ],
        [
         "100",
         "101",
         "0",
         "3",
         "Petranec, Miss. Matilda",
         "female",
         "28.0",
         "0",
         "0",
         "349245",
         "7.8958",
         "S",
         "1",
         "Adult"
        ],
        [
         "101",
         "102",
         "0",
         "3",
         "Petroff, Mr. Pastcho (\"Pentcho\")",
         "male",
         "29.69911764705882",
         "0",
         "0",
         "349215",
         "7.8958",
         "S",
         "1",
         "Adult"
        ],
        [
         "103",
         "104",
         "0",
         "3",
         "Johansson, Mr. Gustaf Joel",
         "male",
         "33.0",
         "0",
         "0",
         "7540",
         "8.6542",
         "S",
         "1",
         "Adult"
        ],
        [
         "104",
         "105",
         "0",
         "3",
         "Gustafsson, Mr. Anders Vilhelm",
         "male",
         "37.0",
         "2",
         "0",
         "3101276",
         "7.925",
         "S",
         "3",
         "Adult"
        ],
        [
         "105",
         "106",
         "0",
         "3",
         "Mionoff, Mr. Stoytcho",
         "male",
         "28.0",
         "0",
         "0",
         "349207",
         "7.8958",
         "S",
         "1",
         "Adult"
        ],
        [
         "106",
         "107",
         "1",
         "3",
         "Salkjelsvik, Miss. Anna Kristine",
         "female",
         "21.0",
         "0",
         "0",
         "343120",
         "7.65",
         "S",
         "1",
         "Adult"
        ],
        [
         "107",
         "108",
         "1",
         "3",
         "Moss, Mr. Albert Johan",
         "male",
         "29.69911764705882",
         "0",
         "0",
         "312991",
         "7.775",
         "S",
         "1",
         "Adult"
        ],
        [
         "108",
         "109",
         "0",
         "3",
         "Rekic, Mr. Tido",
         "male",
         "38.0",
         "0",
         "0",
         "349249",
         "7.8958",
         "S",
         "1",
         "Adult"
        ],
        [
         "112",
         "113",
         "0",
         "3",
         "Barton, Mr. David John",
         "male",
         "22.0",
         "0",
         "0",
         "324669",
         "8.05",
         "S",
         "1",
         "Adult"
        ],
        [
         "113",
         "114",
         "0",
         "3",
         "Jussila, Miss. Katriina",
         "female",
         "20.0",
         "1",
         "0",
         "4136",
         "9.825",
         "S",
         "2",
         "Adult"
        ],
        [
         "115",
         "116",
         "0",
         "3",
         "Pekoniemi, Mr. Edvard",
         "male",
         "21.0",
         "0",
         "0",
         "STON/O 2. 3101294",
         "7.925",
         "S",
         "1",
         "Adult"
        ],
        [
         "121",
         "122",
         "0",
         "3",
         "Moore, Mr. Leonard Charles",
         "male",
         "29.69911764705882",
         "0",
         "0",
         "A4. 54510",
         "8.05",
         "S",
         "1",
         "Adult"
        ],
        [
         "127",
         "128",
         "1",
         "3",
         "Madsen, Mr. Fridtjof Arne",
         "male",
         "24.0",
         "0",
         "0",
         "C 17369",
         "7.1417",
         "S",
         "1",
         "Adult"
        ],
        [
         "129",
         "130",
         "0",
         "3",
         "Ekstrom, Mr. Johan",
         "male",
         "45.0",
         "0",
         "0",
         "347061",
         "6.975",
         "S",
         "1",
         "Adult"
        ],
        [
         "131",
         "132",
         "0",
         "3",
         "Coelho, Mr. Domingos Fernandeo",
         "male",
         "20.0",
         "0",
         "0",
         "SOTON/O.Q. 3101307",
         "7.05",
         "S",
         "1",
         "Adult"
        ],
        [
         "138",
         "139",
         "0",
         "3",
         "Osen, Mr. Olaf Elon",
         "male",
         "16.0",
         "0",
         "0",
         "7534",
         "9.2167",
         "S",
         "1",
         "Teen"
        ],
        [
         "141",
         "142",
         "1",
         "3",
         "Nysten, Miss. Anna Sofia",
         "female",
         "22.0",
         "0",
         "0",
         "347081",
         "7.75",
         "S",
         "1",
         "Adult"
        ],
        [
         "146",
         "147",
         "1",
         "3",
         "Andersson, Mr. August Edvard (\"Wennerstrom\")",
         "male",
         "27.0",
         "0",
         "0",
         "350043",
         "7.7958",
         "S",
         "1",
         "Adult"
        ],
        [
         "152",
         "153",
         "0",
         "3",
         "Meo, Mr. Alfonzo",
         "male",
         "55.5",
         "0",
         "0",
         "A.5. 11206",
         "8.05",
         "S",
         "1",
         "Adult"
        ],
        [
         "154",
         "155",
         "0",
         "3",
         "Olsen, Mr. Ole Martin",
         "male",
         "29.69911764705882",
         "0",
         "0",
         "Fa 265302",
         "7.3125",
         "S",
         "1",
         "Adult"
        ],
        [
         "157",
         "158",
         "0",
         "3",
         "Corn, Mr. Harry",
         "male",
         "30.0",
         "0",
         "0",
         "SOTON/OQ 392090",
         "8.05",
         "S",
         "1",
         "Adult"
        ],
        [
         "158",
         "159",
         "0",
         "3",
         "Smiljanic, Mr. Mile",
         "male",
         "29.69911764705882",
         "0",
         "0",
         "315037",
         "8.6625",
         "S",
         "1",
         "Adult"
        ],
        [
         "162",
         "163",
         "0",
         "3",
         "Bengtsson, Mr. John Viktor",
         "male",
         "26.0",
         "0",
         "0",
         "347068",
         "7.775",
         "S",
         "1",
         "Adult"
        ],
        [
         "163",
         "164",
         "0",
         "3",
         "Calic, Mr. Jovo",
         "male",
         "17.0",
         "0",
         "0",
         "315093",
         "8.6625",
         "S",
         "1",
         "Teen"
        ],
        [
         "173",
         "174",
         "0",
         "3",
         "Sivola, Mr. Antti Wilhelm",
         "male",
         "21.0",
         "0",
         "0",
         "STON/O 2. 3101280",
         "7.925",
         "S",
         "1",
         "Adult"
        ],
        [
         "175",
         "176",
         "0",
         "3",
         "Klasen, Mr. Klas Albin",
         "male",
         "18.0",
         "1",
         "1",
         "350404",
         "7.8542",
         "S",
         "3",
         "Teen"
        ]
       ],
       "shape": {
        "columns": 13,
        "rows": 245
       }
      },
      "text/html": [
       "<div>\n",
       "<style scoped>\n",
       "    .dataframe tbody tr th:only-of-type {\n",
       "        vertical-align: middle;\n",
       "    }\n",
       "\n",
       "    .dataframe tbody tr th {\n",
       "        vertical-align: top;\n",
       "    }\n",
       "\n",
       "    .dataframe thead th {\n",
       "        text-align: right;\n",
       "    }\n",
       "</style>\n",
       "<table border=\"1\" class=\"dataframe\">\n",
       "  <thead>\n",
       "    <tr style=\"text-align: right;\">\n",
       "      <th></th>\n",
       "      <th>PassengerId</th>\n",
       "      <th>Survived</th>\n",
       "      <th>Pclass</th>\n",
       "      <th>Name</th>\n",
       "      <th>Sex</th>\n",
       "      <th>Age</th>\n",
       "      <th>SibSp</th>\n",
       "      <th>Parch</th>\n",
       "      <th>Ticket</th>\n",
       "      <th>Fare</th>\n",
       "      <th>Embarked</th>\n",
       "      <th>FamilySize</th>\n",
       "      <th>AgeGroup</th>\n",
       "    </tr>\n",
       "  </thead>\n",
       "  <tbody>\n",
       "    <tr>\n",
       "      <th>0</th>\n",
       "      <td>1</td>\n",
       "      <td>0</td>\n",
       "      <td>3</td>\n",
       "      <td>Braund, Mr. Owen Harris</td>\n",
       "      <td>male</td>\n",
       "      <td>22.000000</td>\n",
       "      <td>1</td>\n",
       "      <td>0</td>\n",
       "      <td>A/5 21171</td>\n",
       "      <td>7.2500</td>\n",
       "      <td>S</td>\n",
       "      <td>2</td>\n",
       "      <td>Adult</td>\n",
       "    </tr>\n",
       "    <tr>\n",
       "      <th>2</th>\n",
       "      <td>3</td>\n",
       "      <td>1</td>\n",
       "      <td>3</td>\n",
       "      <td>Heikkinen, Miss. Laina</td>\n",
       "      <td>female</td>\n",
       "      <td>26.000000</td>\n",
       "      <td>0</td>\n",
       "      <td>0</td>\n",
       "      <td>STON/O2. 3101282</td>\n",
       "      <td>7.9250</td>\n",
       "      <td>S</td>\n",
       "      <td>1</td>\n",
       "      <td>Adult</td>\n",
       "    </tr>\n",
       "    <tr>\n",
       "      <th>4</th>\n",
       "      <td>5</td>\n",
       "      <td>0</td>\n",
       "      <td>3</td>\n",
       "      <td>Allen, Mr. William Henry</td>\n",
       "      <td>male</td>\n",
       "      <td>35.000000</td>\n",
       "      <td>0</td>\n",
       "      <td>0</td>\n",
       "      <td>373450</td>\n",
       "      <td>8.0500</td>\n",
       "      <td>S</td>\n",
       "      <td>1</td>\n",
       "      <td>Adult</td>\n",
       "    </tr>\n",
       "    <tr>\n",
       "      <th>12</th>\n",
       "      <td>13</td>\n",
       "      <td>0</td>\n",
       "      <td>3</td>\n",
       "      <td>Saundercock, Mr. William Henry</td>\n",
       "      <td>male</td>\n",
       "      <td>20.000000</td>\n",
       "      <td>0</td>\n",
       "      <td>0</td>\n",
       "      <td>A/5. 2151</td>\n",
       "      <td>8.0500</td>\n",
       "      <td>S</td>\n",
       "      <td>1</td>\n",
       "      <td>Adult</td>\n",
       "    </tr>\n",
       "    <tr>\n",
       "      <th>14</th>\n",
       "      <td>15</td>\n",
       "      <td>0</td>\n",
       "      <td>3</td>\n",
       "      <td>Vestrom, Miss. Hulda Amanda Adolfina</td>\n",
       "      <td>female</td>\n",
       "      <td>14.000000</td>\n",
       "      <td>0</td>\n",
       "      <td>0</td>\n",
       "      <td>350406</td>\n",
       "      <td>7.8542</td>\n",
       "      <td>S</td>\n",
       "      <td>1</td>\n",
       "      <td>Teen</td>\n",
       "    </tr>\n",
       "    <tr>\n",
       "      <th>...</th>\n",
       "      <td>...</td>\n",
       "      <td>...</td>\n",
       "      <td>...</td>\n",
       "      <td>...</td>\n",
       "      <td>...</td>\n",
       "      <td>...</td>\n",
       "      <td>...</td>\n",
       "      <td>...</td>\n",
       "      <td>...</td>\n",
       "      <td>...</td>\n",
       "      <td>...</td>\n",
       "      <td>...</td>\n",
       "      <td>...</td>\n",
       "    </tr>\n",
       "    <tr>\n",
       "      <th>876</th>\n",
       "      <td>877</td>\n",
       "      <td>0</td>\n",
       "      <td>3</td>\n",
       "      <td>Gustafsson, Mr. Alfred Ossian</td>\n",
       "      <td>male</td>\n",
       "      <td>20.000000</td>\n",
       "      <td>0</td>\n",
       "      <td>0</td>\n",
       "      <td>7534</td>\n",
       "      <td>9.8458</td>\n",
       "      <td>S</td>\n",
       "      <td>1</td>\n",
       "      <td>Adult</td>\n",
       "    </tr>\n",
       "    <tr>\n",
       "      <th>877</th>\n",
       "      <td>878</td>\n",
       "      <td>0</td>\n",
       "      <td>3</td>\n",
       "      <td>Petroff, Mr. Nedelio</td>\n",
       "      <td>male</td>\n",
       "      <td>19.000000</td>\n",
       "      <td>0</td>\n",
       "      <td>0</td>\n",
       "      <td>349212</td>\n",
       "      <td>7.8958</td>\n",
       "      <td>S</td>\n",
       "      <td>1</td>\n",
       "      <td>Teen</td>\n",
       "    </tr>\n",
       "    <tr>\n",
       "      <th>878</th>\n",
       "      <td>879</td>\n",
       "      <td>0</td>\n",
       "      <td>3</td>\n",
       "      <td>Laleff, Mr. Kristo</td>\n",
       "      <td>male</td>\n",
       "      <td>29.699118</td>\n",
       "      <td>0</td>\n",
       "      <td>0</td>\n",
       "      <td>349217</td>\n",
       "      <td>7.8958</td>\n",
       "      <td>S</td>\n",
       "      <td>1</td>\n",
       "      <td>Adult</td>\n",
       "    </tr>\n",
       "    <tr>\n",
       "      <th>881</th>\n",
       "      <td>882</td>\n",
       "      <td>0</td>\n",
       "      <td>3</td>\n",
       "      <td>Markun, Mr. Johann</td>\n",
       "      <td>male</td>\n",
       "      <td>33.000000</td>\n",
       "      <td>0</td>\n",
       "      <td>0</td>\n",
       "      <td>349257</td>\n",
       "      <td>7.8958</td>\n",
       "      <td>S</td>\n",
       "      <td>1</td>\n",
       "      <td>Adult</td>\n",
       "    </tr>\n",
       "    <tr>\n",
       "      <th>884</th>\n",
       "      <td>885</td>\n",
       "      <td>0</td>\n",
       "      <td>3</td>\n",
       "      <td>Sutehall, Mr. Henry Jr</td>\n",
       "      <td>male</td>\n",
       "      <td>25.000000</td>\n",
       "      <td>0</td>\n",
       "      <td>0</td>\n",
       "      <td>SOTON/OQ 392076</td>\n",
       "      <td>7.0500</td>\n",
       "      <td>S</td>\n",
       "      <td>1</td>\n",
       "      <td>Adult</td>\n",
       "    </tr>\n",
       "  </tbody>\n",
       "</table>\n",
       "<p>245 rows × 13 columns</p>\n",
       "</div>"
      ],
      "text/plain": [
       "     PassengerId  Survived  Pclass                                  Name  \\\n",
       "0              1         0       3               Braund, Mr. Owen Harris   \n",
       "2              3         1       3                Heikkinen, Miss. Laina   \n",
       "4              5         0       3              Allen, Mr. William Henry   \n",
       "12            13         0       3        Saundercock, Mr. William Henry   \n",
       "14            15         0       3  Vestrom, Miss. Hulda Amanda Adolfina   \n",
       "..           ...       ...     ...                                   ...   \n",
       "876          877         0       3         Gustafsson, Mr. Alfred Ossian   \n",
       "877          878         0       3                  Petroff, Mr. Nedelio   \n",
       "878          879         0       3                    Laleff, Mr. Kristo   \n",
       "881          882         0       3                    Markun, Mr. Johann   \n",
       "884          885         0       3                Sutehall, Mr. Henry Jr   \n",
       "\n",
       "        Sex        Age  SibSp  Parch            Ticket    Fare Embarked  \\\n",
       "0      male  22.000000      1      0         A/5 21171  7.2500        S   \n",
       "2    female  26.000000      0      0  STON/O2. 3101282  7.9250        S   \n",
       "4      male  35.000000      0      0            373450  8.0500        S   \n",
       "12     male  20.000000      0      0         A/5. 2151  8.0500        S   \n",
       "14   female  14.000000      0      0            350406  7.8542        S   \n",
       "..      ...        ...    ...    ...               ...     ...      ...   \n",
       "876    male  20.000000      0      0              7534  9.8458        S   \n",
       "877    male  19.000000      0      0            349212  7.8958        S   \n",
       "878    male  29.699118      0      0            349217  7.8958        S   \n",
       "881    male  33.000000      0      0            349257  7.8958        S   \n",
       "884    male  25.000000      0      0   SOTON/OQ 392076  7.0500        S   \n",
       "\n",
       "     FamilySize AgeGroup  \n",
       "0             2    Adult  \n",
       "2             1    Adult  \n",
       "4             1    Adult  \n",
       "12            1    Adult  \n",
       "14            1     Teen  \n",
       "..          ...      ...  \n",
       "876           1    Adult  \n",
       "877           1     Teen  \n",
       "878           1    Adult  \n",
       "881           1    Adult  \n",
       "884           1    Adult  \n",
       "\n",
       "[245 rows x 13 columns]"
      ]
     },
     "execution_count": 55,
     "metadata": {},
     "output_type": "execute_result"
    }
   ],
   "source": [
    "df[(df['Embarked'] == 'S') & (df['Fare'] < 10)]"
   ]
  },
  {
   "cell_type": "markdown",
   "id": "da7952c7",
   "metadata": {},
   "source": [
    "### 5"
   ]
  },
  {
   "cell_type": "code",
   "execution_count": 56,
   "id": "9ed23058",
   "metadata": {},
   "outputs": [
    {
     "data": {
      "application/vnd.microsoft.datawrangler.viewer.v0+json": {
       "columns": [
        {
         "name": "Survived",
         "rawType": "int64",
         "type": "integer"
        },
        {
         "name": "Age",
         "rawType": "float64",
         "type": "float"
        }
       ],
       "ref": "7316d1bc-bb87-46f7-a662-36660d151cf7",
       "rows": [
        [
         "0",
         "30.415099646415943"
        ],
        [
         "1",
         "28.549778121775027"
        ]
       ],
       "shape": {
        "columns": 1,
        "rows": 2
       }
      },
      "text/plain": [
       "Survived\n",
       "0    30.415100\n",
       "1    28.549778\n",
       "Name: Age, dtype: float64"
      ]
     },
     "execution_count": 56,
     "metadata": {},
     "output_type": "execute_result"
    }
   ],
   "source": [
    "df.groupby(\"Survived\")[\"Age\"].mean()"
   ]
  },
  {
   "cell_type": "code",
   "execution_count": 57,
   "id": "025d114c",
   "metadata": {},
   "outputs": [
    {
     "data": {
      "application/vnd.microsoft.datawrangler.viewer.v0+json": {
       "columns": [
        {
         "name": "('Sex', 'Pclass')",
         "rawType": "object",
         "type": "unknown"
        },
        {
         "name": "Survived",
         "rawType": "float64",
         "type": "float"
        }
       ],
       "ref": "3b358af6-6678-4b32-b4ab-340a9678640a",
       "rows": [
        [
         "('female', 1)",
         "0.9680851063829787"
        ],
        [
         "('female', 2)",
         "0.9210526315789473"
        ],
        [
         "('female', 3)",
         "0.5"
        ],
        [
         "('male', 1)",
         "0.36885245901639346"
        ],
        [
         "('male', 2)",
         "0.1574074074074074"
        ],
        [
         "('male', 3)",
         "0.13544668587896252"
        ]
       ],
       "shape": {
        "columns": 1,
        "rows": 6
       }
      },
      "text/plain": [
       "Sex     Pclass\n",
       "female  1         0.968085\n",
       "        2         0.921053\n",
       "        3         0.500000\n",
       "male    1         0.368852\n",
       "        2         0.157407\n",
       "        3         0.135447\n",
       "Name: Survived, dtype: float64"
      ]
     },
     "execution_count": 57,
     "metadata": {},
     "output_type": "execute_result"
    }
   ],
   "source": [
    "df.groupby([\"Sex\", \"Pclass\"])[\"Survived\"].mean()"
   ]
  },
  {
   "cell_type": "markdown",
   "id": "3187048d",
   "metadata": {},
   "source": [
    "### 6"
   ]
  },
  {
   "cell_type": "code",
   "execution_count": 58,
   "id": "b003c0e0",
   "metadata": {},
   "outputs": [],
   "source": [
    "df.to_csv(\"../datasets/titanic_processed.csv\", index=False)"
   ]
  }
 ],
 "metadata": {
  "kernelspec": {
   "display_name": "ds605",
   "language": "python",
   "name": "python3"
  },
  "language_info": {
   "codemirror_mode": {
    "name": "ipython",
    "version": 3
   },
   "file_extension": ".py",
   "mimetype": "text/x-python",
   "name": "python",
   "nbconvert_exporter": "python",
   "pygments_lexer": "ipython3",
   "version": "3.8.20"
  }
 },
 "nbformat": 4,
 "nbformat_minor": 5
}
