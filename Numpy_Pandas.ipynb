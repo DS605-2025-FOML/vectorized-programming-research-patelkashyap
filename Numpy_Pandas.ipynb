{
  "cells": [
    {
      "cell_type": "markdown",
      "metadata": {
        "id": "WGg7nkjrqw0I"
      },
      "source": [
        "# Lab 03: Numpy"
      ]
    },
    {
      "cell_type": "markdown",
      "metadata": {
        "id": "xAzhlWA9qlPs"
      },
      "source": [
        "Scientific Python code uses a fast array structure, called the numpy array. Those who have worked in Matlab will find this very natural. For reference, the numpy documention can be found [here](https://numpy.org/doc/stable/reference/)"
      ]
    },
    {
      "cell_type": "markdown",
      "metadata": {
        "id": "yjw307e6q317"
      },
      "source": [
        "Let's make a numpy array.\n",
        "\n"
      ]
    },
    {
      "cell_type": "markdown",
      "metadata": {
        "id": "zzgBxAonq89L"
      },
      "source": [
        "## to install: pip install numpy  "
      ]
    },
    {
      "cell_type": "code",
      "execution_count": 1,
      "metadata": {
        "id": "vzVihodOrENh"
      },
      "outputs": [],
      "source": [
        "import numpy as np"
      ]
    },
    {
      "cell_type": "code",
      "execution_count": null,
      "metadata": {
        "colab": {
          "base_uri": "https://localhost:8080/"
        },
        "id": "LbaqMhGiqYVe",
        "outputId": "6921c1fc-caf1-4715-ec27-a659cb5b730d"
      },
      "outputs": [],
      "source": [
        "my_array = np.array([1, 2, 3, 4])\n",
        "my_array"
      ]
    },
    {
      "cell_type": "markdown",
      "metadata": {
        "id": "9Dm5Q2c0q7Hg"
      },
      "source": [
        "Numpy arrays are listy! Below we compute length, slice, and iterate."
      ]
    },
    {
      "cell_type": "code",
      "execution_count": null,
      "metadata": {
        "colab": {
          "base_uri": "https://localhost:8080/"
        },
        "id": "pH2uQO44q5mG",
        "outputId": "1bb01d74-89f9-4c38-f247-becf4d5be4a3"
      },
      "outputs": [],
      "source": [
        "print(len(my_array))\n",
        "print(my_array[2:4])\n",
        "for ele in my_array:\n",
        "    print(ele)"
      ]
    },
    {
      "cell_type": "markdown",
      "metadata": {
        "id": "3vsqdJ-YrQN8"
      },
      "source": [
        "In general you should manipulate numpy arrays by using numpy module functions (np.mean, for example). This is for efficiency purposes, and a discussion follows below this section.\n",
        "\n",
        "You can calculate the mean of the array elements either by calling the method .mean on a numpy array or by applying the function np.mean with the numpy array as an argument.\n",
        "\n"
      ]
    },
    {
      "cell_type": "code",
      "execution_count": null,
      "metadata": {
        "colab": {
          "base_uri": "https://localhost:8080/"
        },
        "id": "7Xov5m2prIL8",
        "outputId": "0b020396-7191-48f8-92e5-df7ae19fcdca"
      },
      "outputs": [],
      "source": [
        "print(my_array.mean())\n",
        "print(np.mean(my_array))"
      ]
    },
    {
      "cell_type": "markdown",
      "metadata": {
        "id": "lpj4j2xKrUup"
      },
      "source": [
        "The way we constructed the numpy array above seems redundant..after all we already had a regular python list. Indeed, it is the other ways we have to construct numpy arrays that make them super useful.\n",
        "\n",
        "There are many such numpy array constructors. Here are some commonly used constructors. Look them up in the documentation.\n",
        "\n"
      ]
    },
    {
      "cell_type": "code",
      "execution_count": null,
      "metadata": {
        "colab": {
          "base_uri": "https://localhost:8080/"
        },
        "id": "3ZREe9OIrS6e",
        "outputId": "1057dff2-f733-4d5d-b209-fceef829f0ab"
      },
      "outputs": [],
      "source": [
        "np.ones(10) # generates 10 floating point ones"
      ]
    },
    {
      "cell_type": "markdown",
      "metadata": {
        "id": "dOC29-GyrfFU"
      },
      "source": [
        "Numpy gains a lot of its efficiency from being typed. That is, all elements in the array have the same type, such as integer or floating point. The default type, as can be seen above, is a float of size appropriate for the machine (64 bit on a 64 bit machine).\n",
        "\n"
      ]
    },
    {
      "cell_type": "code",
      "execution_count": null,
      "metadata": {
        "colab": {
          "base_uri": "https://localhost:8080/"
        },
        "id": "FdxLC6EHrWmY",
        "outputId": "21a8ee72-3221-4890-c3a9-89e31e5fe552"
      },
      "outputs": [],
      "source": [
        "np.dtype(float).itemsize # in bytes"
      ]
    },
    {
      "cell_type": "code",
      "execution_count": null,
      "metadata": {
        "colab": {
          "base_uri": "https://localhost:8080/"
        },
        "id": "orKUPIt4rZGk",
        "outputId": "66621dd4-d79b-45b4-dc07-7e41a93a8f54"
      },
      "outputs": [],
      "source": [
        "np.ones(10, dtype='int') # generates 10 integer ones"
      ]
    },
    {
      "cell_type": "code",
      "execution_count": null,
      "metadata": {
        "colab": {
          "base_uri": "https://localhost:8080/"
        },
        "id": "sBntq7o3rb3G",
        "outputId": "83368de4-7d2b-4921-c586-02f8485039e7"
      },
      "outputs": [],
      "source": [
        "np.zeros(10)"
      ]
    },
    {
      "cell_type": "markdown",
      "metadata": {
        "id": "nVDFdRX1rh-8"
      },
      "source": [
        "Often you will want random numbers. Use the random constructor!\n",
        "\n"
      ]
    },
    {
      "cell_type": "code",
      "execution_count": null,
      "metadata": {
        "colab": {
          "base_uri": "https://localhost:8080/"
        },
        "id": "KmBIglUVrcRj",
        "outputId": "136a626b-5c92-479b-95f8-95e21e7b0f06"
      },
      "outputs": [],
      "source": [
        "np.random.random(10) # uniform on [0,1]"
      ]
    },
    {
      "cell_type": "code",
      "execution_count": null,
      "metadata": {
        "colab": {
          "base_uri": "https://localhost:8080/"
        },
        "id": "jaf3ot7-rj2U",
        "outputId": "bcddeac5-edbb-49a2-9acd-2f532f0b73a4"
      },
      "outputs": [],
      "source": [
        "normal_array = np.random.randn(1000)\n",
        "print(\"The sample mean and standard devation are %f and %f, respectively.\" %(np.mean(normal_array), np.std(normal_array)))\n"
      ]
    },
    {
      "cell_type": "code",
      "execution_count": null,
      "metadata": {
        "colab": {
          "base_uri": "https://localhost:8080/"
        },
        "id": "tSEB1YZmrlss",
        "outputId": "b92e7197-de05-46a9-e4df-6bf0458c38c7"
      },
      "outputs": [],
      "source": [
        "first = np.ones(5)\n",
        "second = np.ones(5)\n",
        "first + second\n"
      ]
    },
    {
      "cell_type": "code",
      "execution_count": null,
      "metadata": {
        "id": "izVyMFp_rqYd"
      },
      "outputs": [],
      "source": [
        "first_list = [1., 1., 1., 1., 1.]\n",
        "second_list = [1., 1., 1., 1., 1.]\n",
        "first_list + second_list #not what u want"
      ]
    },
    {
      "cell_type": "code",
      "execution_count": null,
      "metadata": {
        "colab": {
          "base_uri": "https://localhost:8080/"
        },
        "id": "d1FHItRhrxM1",
        "outputId": "6b472286-1d73-44db-b395-3b45448e7dcd"
      },
      "outputs": [],
      "source": [
        "first + 1"
      ]
    },
    {
      "cell_type": "code",
      "execution_count": null,
      "metadata": {
        "colab": {
          "base_uri": "https://localhost:8080/"
        },
        "id": "9tmK5KlorxIJ",
        "outputId": "8e3356ae-8a1d-4d1c-c658-e49798e6a1db"
      },
      "outputs": [],
      "source": [
        "first*5"
      ]
    },
    {
      "cell_type": "code",
      "execution_count": null,
      "metadata": {
        "id": "Tavs7JMXrxFm"
      },
      "outputs": [],
      "source": []
    },
    {
      "cell_type": "markdown",
      "metadata": {
        "id": "8dGuprrnr5ln"
      },
      "source": [
        "# **2D arrays**\n",
        "\n",
        "Similarly, we can create two-dimensional arrays."
      ]
    },
    {
      "cell_type": "code",
      "execution_count": null,
      "metadata": {
        "colab": {
          "base_uri": "https://localhost:8080/"
        },
        "id": "rJSLGvPBrxBL",
        "outputId": "ad6c9520-e7ec-483d-e41c-a3aaf37ffd2d"
      },
      "outputs": [],
      "source": [
        "my_array2d = np.array([ [1, 2, 3, 4], [5, 6, 7, 8], [9, 10, 11, 12] ])\n",
        "\n",
        "# 3 x 4 array of ones\n",
        "ones_2d = np.ones([3, 4])\n",
        "print(ones_2d)\n",
        "# 3 x 4 array of ones with random noise\n",
        "ones_noise = ones_2d + .01*np.random.randn(3, 4)\n",
        "print(ones_noise)\n",
        "# 3 x 3 identity matrix\n",
        "my_identity = np.eye(3)\n",
        "print(my_identity)\n"
      ]
    },
    {
      "cell_type": "code",
      "execution_count": null,
      "metadata": {
        "colab": {
          "base_uri": "https://localhost:8080/"
        },
        "id": "TQ4-KHZ0r-oc",
        "outputId": "07f3521d-0783-44fc-f192-eec4d68e2a75"
      },
      "outputs": [],
      "source": [
        "print(my_array2d)\n",
        "my_array2d[2, 3]"
      ]
    },
    {
      "cell_type": "markdown",
      "metadata": {
        "id": "BNgtDlTWsCYR"
      },
      "source": [
        "Numpy arrays are listy! They have set length (array dimensions), can be sliced, and can be iterated over with loop. Below is a schematic illustrating slicing two-dimensional arrays.\n",
        "\n",
        "\n",
        "Earlier when we generated the one-dimensional arrays of ones and random numbers, we gave ones and random the number of elements we wanted in the arrays. In two dimensions, we need to provide the shape of the array, ie, the number of rows and columns of the array."
      ]
    },
    {
      "cell_type": "code",
      "execution_count": null,
      "metadata": {
        "colab": {
          "base_uri": "https://localhost:8080/"
        },
        "id": "jQykRez6sAc7",
        "outputId": "f5b5568b-ac82-41bb-cb02-c0094e617f07"
      },
      "outputs": [],
      "source": [
        "onesarray = np.ones([3,4])\n",
        "onesarray"
      ]
    },
    {
      "cell_type": "markdown",
      "metadata": {
        "id": "X1gsvJHCsaVF"
      },
      "source": [
        "You can transpose the array:\n",
        "\n"
      ]
    },
    {
      "cell_type": "code",
      "execution_count": null,
      "metadata": {
        "colab": {
          "base_uri": "https://localhost:8080/"
        },
        "id": "tnCdBu2ssYLs",
        "outputId": "3adb266a-9716-4654-e624-1a5a7f6286cf"
      },
      "outputs": [],
      "source": [
        "onesarray.shape\n",
        "onesarray.T\n",
        "onesarray.T.shape"
      ]
    },
    {
      "cell_type": "markdown",
      "metadata": {
        "id": "MFqMJAoNsfJ0"
      },
      "source": [
        "Matrix multiplication is accomplished by np.dot. The * operator will do element-wise multiplication.\n",
        "\n"
      ]
    },
    {
      "cell_type": "code",
      "execution_count": null,
      "metadata": {
        "colab": {
          "base_uri": "https://localhost:8080/"
        },
        "id": "px6lMZatsclU",
        "outputId": "e95bfb26-7ed6-4d3d-d52d-c9f1d3127be6"
      },
      "outputs": [],
      "source": [
        "print(np.dot(onesarray, onesarray.T)) # 3 x 3 matrix\n",
        "np.dot(onesarray.T, onesarray) # 4 x 4 matrix\n"
      ]
    },
    {
      "cell_type": "code",
      "execution_count": null,
      "metadata": {
        "colab": {
          "base_uri": "https://localhost:8080/"
        },
        "id": "V4NNvk_isg1h",
        "outputId": "c13d4d4f-176a-43ff-f3e7-f51780af069b"
      },
      "outputs": [],
      "source": [
        "np.sum(onesarray)\n"
      ]
    },
    {
      "cell_type": "markdown",
      "metadata": {
        "id": "1FgRT9dzs3YA"
      },
      "source": [
        "# **EXERCISE**: Verify that two-dimensional arrays are listy. Create a two-dimensional array and show that this array has set length (shape), can be sliced, and can be iterated through with a loop. Your code should slice the array in at least two different ways, and your loop should print out the array entries.\n",
        "\n"
      ]
    },
    {
      "cell_type": "code",
      "execution_count": null,
      "metadata": {
        "colab": {
          "base_uri": "https://localhost:8080/"
        },
        "id": "sw-SLqyFsk4b",
        "outputId": "d6ceabb4-e62c-4c34-9ab7-74614f475087"
      },
      "outputs": [],
      "source": [
        "twod = np.zeros((5, 2))\n",
        "twod"
      ]
    },
    {
      "cell_type": "code",
      "execution_count": null,
      "metadata": {
        "colab": {
          "base_uri": "https://localhost:8080/"
        },
        "id": "8AHtbXF3sk2H",
        "outputId": "64f1e625-9ccd-42c9-faf8-91967c382234"
      },
      "outputs": [],
      "source": [
        "for i in range(twod.shape[0]):\n",
        "    twod[i, :] = np.random.random(2)\n",
        "twod"
      ]
    },
    {
      "cell_type": "code",
      "execution_count": null,
      "metadata": {
        "colab": {
          "base_uri": "https://localhost:8080/"
        },
        "id": "YMOwcdXeskzY",
        "outputId": "97ed0299-c115-4a44-dad5-6389398654bb"
      },
      "outputs": [],
      "source": [
        "twod = np.random.random(size=(5,2))\n",
        "twod"
      ]
    },
    {
      "cell_type": "markdown",
      "metadata": {
        "id": "zy54o7a9tBqP"
      },
      "source": [
        "# Numpy Arrays vs. Python Lists?\n",
        "1. Why the need for numpy arrays? Can't we just use Python lists?\n",
        "2. Iterating over numpy arrays is slow. Slicing is faster\n"
      ]
    },
    {
      "cell_type": "markdown",
      "metadata": {
        "id": "SauM8EWc0MwI"
      },
      "source": [
        "# Numpy: https://numpy.org/doc/stable/user/quickstart.html"
      ]
    },
    {
      "cell_type": "code",
      "execution_count": null,
      "metadata": {
        "id": "99kBlI3DskwL"
      },
      "outputs": [],
      "source": []
    },
    {
      "cell_type": "markdown",
      "metadata": {
        "id": "UOpKS_P8tOih"
      },
      "source": [
        "# **Introduction to Pandas**"
      ]
    },
    {
      "cell_type": "markdown",
      "metadata": {
        "id": "VHKkgsMTubaT"
      },
      "source": [
        "## Dataset: https://figshare.com/articles/dataset/Motor_Trend_Car_Road_Tests/3122005?file=4856698\n",
        "\n",
        "\n",
        "## Datasets: https://github.com/panchaldhruv27223/datasets_for_ml_-csv-xlsl-\n"
      ]
    },
    {
      "cell_type": "markdown",
      "metadata": {
        "id": "eFczjIZiutLV"
      },
      "source": [
        "# Install pandas: pip install pandas"
      ]
    },
    {
      "cell_type": "code",
      "execution_count": null,
      "metadata": {
        "id": "0u4iFFXyuqZW"
      },
      "outputs": [],
      "source": [
        "import pandas as pd"
      ]
    },
    {
      "cell_type": "code",
      "execution_count": null,
      "metadata": {
        "colab": {
          "base_uri": "https://localhost:8080/",
          "height": 204
        },
        "id": "o4yFEeY-skpR",
        "outputId": "d4400992-6723-47fd-a4bb-ecbff2f0e325"
      },
      "outputs": [],
      "source": [
        "# Read in the csv files\n",
        "dfcars=pd.read_csv(\"/content/cars.csv\")\n",
        "type(dfcars)"
      ]
    },
    {
      "cell_type": "code",
      "execution_count": null,
      "metadata": {
        "colab": {
          "base_uri": "https://localhost:8080/",
          "height": 206
        },
        "id": "NU2r4Sl9skhr",
        "outputId": "d7f98ce6-cf00-4116-defb-da70b03d13e4"
      },
      "outputs": [],
      "source": [
        "dfcars.head()"
      ]
    },
    {
      "cell_type": "markdown",
      "metadata": {
        "id": "fgybwovpu2NL"
      },
      "source": [
        "Wow! That was easier and the output is nicer. What we have now is a spreadsheet with indexed rows and named columns, called a dataframe in pandas. dfcars is an instance of the pd.DataFrame class, created by calling the pd.read_csv \"constructor function\".\n",
        "\n",
        "The take-away is that dfcars is a dataframe object, and it has methods (functions) belonging to it. For example, df.head() is a method that shows the first 5 rows of the dataframe.\n",
        "\n",
        "A pandas dataframe is a set of columns pasted together into a spreadsheet, as shown in the schematic below, which is taken from the cheatsheet above. The columns in pandas are called series objects.\n",
        "\n",
        "\n",
        "\n",
        "Let's look again at the first five rows of dfcars.\n",
        "\n"
      ]
    },
    {
      "cell_type": "code",
      "execution_count": null,
      "metadata": {
        "colab": {
          "base_uri": "https://localhost:8080/",
          "height": 206
        },
        "id": "dGGUg-rQskdO",
        "outputId": "f518b139-6775-4247-dd49-84a192726b45"
      },
      "outputs": [],
      "source": [
        "dfcars.head()"
      ]
    },
    {
      "cell_type": "code",
      "execution_count": null,
      "metadata": {
        "colab": {
          "base_uri": "https://localhost:8080/"
        },
        "id": "JLENIO4qskaU",
        "outputId": "cd912858-324d-48eb-cb65-b1210f1f09d5"
      },
      "outputs": [],
      "source": [
        "dfcars.columns"
      ]
    },
    {
      "cell_type": "code",
      "execution_count": null,
      "metadata": {
        "colab": {
          "base_uri": "https://localhost:8080/"
        },
        "id": "Y0AlX1nVskVn",
        "outputId": "8218e8b5-5433-4d92-cff0-ace80be73212"
      },
      "outputs": [],
      "source": [
        "dfcars.index"
      ]
    },
    {
      "cell_type": "code",
      "execution_count": null,
      "metadata": {
        "colab": {
          "base_uri": "https://localhost:8080/"
        },
        "id": "1jgvcqOQskS5",
        "outputId": "cea4faa7-7db7-453c-bac9-65f8a1c098c7"
      },
      "outputs": [],
      "source": [
        "len(dfcars)"
      ]
    },
    {
      "cell_type": "code",
      "execution_count": null,
      "metadata": {
        "colab": {
          "base_uri": "https://localhost:8080/"
        },
        "id": "YCFlXopIskOr",
        "outputId": "e67fa1cd-21be-4b1e-9928-f403738a64ef"
      },
      "outputs": [],
      "source": [
        "dfcars.shape"
      ]
    },
    {
      "cell_type": "code",
      "execution_count": null,
      "metadata": {
        "colab": {
          "base_uri": "https://localhost:8080/",
          "height": 1000
        },
        "collapsed": true,
        "id": "WFIKdcyCvWZB",
        "outputId": "b32c7731-d9ed-4f8d-b96c-1c760794b419"
      },
      "outputs": [],
      "source": [
        "dfcars.mpg"
      ]
    },
    {
      "cell_type": "code",
      "execution_count": null,
      "metadata": {
        "colab": {
          "base_uri": "https://localhost:8080/"
        },
        "id": "L94K51a8vXaR",
        "outputId": "b475ec4a-9fb3-468c-c3ac-d799bb2c9c82"
      },
      "outputs": [],
      "source": [
        "dfcars.mpg.values"
      ]
    },
    {
      "cell_type": "code",
      "execution_count": null,
      "metadata": {
        "colab": {
          "base_uri": "https://localhost:8080/",
          "height": 1000
        },
        "collapsed": true,
        "id": "R9MtjmiEvXYS",
        "outputId": "64273063-f2d5-4f52-b8c3-7c70ab10d3d8"
      },
      "outputs": [],
      "source": [
        "dfcars['mpg']"
      ]
    },
    {
      "cell_type": "code",
      "execution_count": null,
      "metadata": {
        "colab": {
          "base_uri": "https://localhost:8080/",
          "height": 1000
        },
        "id": "hPH8p0O2vXS9",
        "outputId": "f162c2d5-47cf-4c59-df49-b1401f623628"
      },
      "outputs": [],
      "source": [
        "dfcars[['am', 'mpg']]\n"
      ]
    },
    {
      "cell_type": "markdown",
      "metadata": {
        "id": "p9DB5-aSvls9"
      },
      "source": [
        "# Dataframes and Series\n",
        "Now that we have our automobile data loaded as a dataframe, we'd like to be able to manipulate it, its series, and its sub-dataframes, say by calculating statistics and plotting distributions of features. Like arrays and other containers, dataframes and series are listy, so we can apply the list operations we already know to these new containers. Below we explore our dataframe and its properties, in the context of listiness.\n",
        "\n"
      ]
    },
    {
      "cell_type": "code",
      "execution_count": null,
      "metadata": {
        "colab": {
          "base_uri": "https://localhost:8080/"
        },
        "id": "8UE0dOH8vXQf",
        "outputId": "3aa3fbfd-74c1-4643-b5e4-e839d8add9da"
      },
      "outputs": [],
      "source": [
        "print(dfcars.shape)     # 12 columns, each of length 32\n",
        "print(len(dfcars))      # the number of rows in the dataframe, also the length of a series\n",
        "print(len(dfcars.mpg))  # the length of a series"
      ]
    },
    {
      "cell_type": "markdown",
      "metadata": {
        "id": "cHFcwRFNvzHx"
      },
      "source": [
        "# Listiness property 2: iteration via loops\n",
        "One consequence of the column-wise construction of dataframes is that you cannot easily iterate over the rows of the dataframe. Instead, we iterate over the columns, for example, by printing out the column names via a for loop.\n",
        "\n"
      ]
    },
    {
      "cell_type": "code",
      "execution_count": null,
      "metadata": {
        "colab": {
          "base_uri": "https://localhost:8080/"
        },
        "id": "i0Juo8QSvu56",
        "outputId": "f1a13e07-4bee-4e8d-949d-a99303ea9715"
      },
      "outputs": [],
      "source": [
        "for ele in dfcars: # iterating iterates over column names though, like a dictionary\n",
        "    print(ele)"
      ]
    },
    {
      "cell_type": "code",
      "execution_count": null,
      "metadata": {
        "colab": {
          "base_uri": "https://localhost:8080/"
        },
        "id": "Zh-gIezyvu1d",
        "outputId": "8f700239-bb74-4a50-c1f4-c630848617de"
      },
      "outputs": [],
      "source": [
        "for ele in dfcars.cyl:\n",
        "    print(ele)\n"
      ]
    },
    {
      "cell_type": "markdown",
      "metadata": {
        "id": "xsU4IeU-v-TX"
      },
      "source": [
        "How do you iterate over rows? Dataframes are put together column-by-column and you should be able to write code which never requires iteration over loops. But if you still find a need to iterate over rows, you can do it using itertuples. See the documentation.\n",
        "\n",
        "In general direct iteration through pandas series/dataframes (and numpy arrays) is a bad idea, because of the reasons in the earlier \"Python Lists vs. Numpy Arrays\" section.\n",
        "\n",
        "Instead, you should manipulate dataframes and series with pandas methods which are written to be very fast (ie, they access series and dataframes at the C level). Similarly numpy arrays should be accessed directly through numpy methods.\n",
        "\n"
      ]
    },
    {
      "cell_type": "markdown",
      "metadata": {
        "id": "yivpXJsfwAT4"
      },
      "source": [
        "# **Listiness property 3: slice**\n",
        "Let's see how indexing works in dataframes. Like lists in Python and arrays in numpy, dataframes and series are zero-indexed.\n",
        "\n"
      ]
    },
    {
      "cell_type": "code",
      "execution_count": null,
      "metadata": {
        "colab": {
          "base_uri": "https://localhost:8080/",
          "height": 206
        },
        "id": "wHLr6xobvuyl",
        "outputId": "15017f6b-1f38-4529-82d8-16ff604aed0f"
      },
      "outputs": [],
      "source": [
        "dfcars.head()\n"
      ]
    },
    {
      "cell_type": "code",
      "execution_count": null,
      "metadata": {
        "colab": {
          "base_uri": "https://localhost:8080/"
        },
        "id": "dCBqA9SEwFa4",
        "outputId": "509033df-788b-44c6-fb9e-a1819f72949c"
      },
      "outputs": [],
      "source": [
        "# index for the dataframe\n",
        "print(list(dfcars.index))\n",
        "# index for the cyl series\n",
        "dfcars.cyl.index"
      ]
    },
    {
      "cell_type": "code",
      "execution_count": null,
      "metadata": {
        "colab": {
          "base_uri": "https://localhost:8080/",
          "height": 206
        },
        "id": "IfAUBty9wFYh",
        "outputId": "249aea25-f231-4748-b240-0536d9d3fe37"
      },
      "outputs": [],
      "source": [
        "new_index = np.arange(5, 37)\n",
        "# new dataframe with indexed rows from 5 to 36\n",
        "dfcars_reindex = dfcars.reindex(new_index)\n",
        "dfcars_reindex.head()\n"
      ]
    },
    {
      "cell_type": "code",
      "execution_count": null,
      "metadata": {
        "id": "rUHl0gLgwFVx"
      },
      "outputs": [],
      "source": []
    },
    {
      "cell_type": "markdown",
      "metadata": {
        "id": "m0TKFnrfwPEs"
      },
      "source": [
        "We now return the first three rows of dfcars_reindex in two different ways, first with iloc and then with loc. With iloc we use the command"
      ]
    },
    {
      "cell_type": "code",
      "execution_count": null,
      "metadata": {
        "colab": {
          "base_uri": "https://localhost:8080/",
          "height": 143
        },
        "id": "077BQcNrwFRn",
        "outputId": "ff725295-4db1-4824-fa98-d6196b124dc6"
      },
      "outputs": [],
      "source": [
        "dfcars_reindex.iloc[0:3]"
      ]
    },
    {
      "cell_type": "markdown",
      "metadata": {
        "id": "Zv-tmSyWwzYU"
      },
      "source": [
        "since iloc uses the position in the index. Notice that the argument 0:3 with iloc returns the first three rows of the dataframe, which have label names 5, 6, and 7. To access the same rows with loc, we write"
      ]
    },
    {
      "cell_type": "code",
      "execution_count": null,
      "metadata": {
        "colab": {
          "base_uri": "https://localhost:8080/",
          "height": 143
        },
        "id": "Lh82-M7hwSSr",
        "outputId": "78719db0-2d99-4b56-de04-7ba2b14af0a5"
      },
      "outputs": [],
      "source": [
        "dfcars_reindex.loc[0:7] # or dfcars_reindex.loc[5:7]\n"
      ]
    },
    {
      "cell_type": "markdown",
      "metadata": {
        "id": "Gys_Qdo9wuh8"
      },
      "source": [
        "since loc indexes via the label name.\n",
        "\n",
        "Here's another example where we return three rows of dfcars_reindex that correspond to column attributes mpg, cyl, and disp. First do it with iloc:\n"
      ]
    },
    {
      "cell_type": "code",
      "execution_count": null,
      "metadata": {
        "colab": {
          "base_uri": "https://localhost:8080/",
          "height": 143
        },
        "id": "eamsPzA6wSP_",
        "outputId": "c98840a2-3b4f-4ba0-98af-004a7ce8b90e"
      },
      "outputs": [],
      "source": [
        "dfcars_reindex.iloc[2:5, 1:4]"
      ]
    },
    {
      "cell_type": "markdown",
      "metadata": {
        "id": "aKI6_LcbwXat"
      },
      "source": [
        "\n",
        "Notice that rows we're accessing, 2, 3, and 4, have label names 7, 8, and 9, and the columns we're accessing, 1, 2, and 3, have label names mpg, cyl, and disp. So for both rows and columns, we're accessing elements of the dataframe using the integer position indices. Now let's do it with loc:"
      ]
    },
    {
      "cell_type": "code",
      "execution_count": null,
      "metadata": {
        "colab": {
          "base_uri": "https://localhost:8080/",
          "height": 143
        },
        "id": "ZuZWuUPTwhlU",
        "outputId": "a46915b0-2734-424b-c823-90a2eb66d8ac"
      },
      "outputs": [],
      "source": [
        "dfcars_reindex.loc[7:9, ['mpg', 'cyl', 'disp']]"
      ]
    },
    {
      "cell_type": "markdown",
      "metadata": {
        "id": "i2rjg3g4wkhS"
      },
      "source": [
        "We don't have to remember that disp is the third column of the dataframe the way we did when the data was stored as a numpy array -- we can simply access it with loc using the label name disp.\n",
        "\n",
        "Generally we prefer iloc for indexing rows and loc for indexing columns."
      ]
    },
    {
      "cell_type": "markdown",
      "metadata": {
        "id": "9I5DeAF7xE1Y"
      },
      "source": [
        "# **EXERCISE**: In this exercise you'll examine the documentation to generate a toy dataframe from scratch. Go to the documentation and click on \"10 minutes to pandas\" in the table of contents. Then do the following:\n",
        "\n",
        "Create a series called column_1 with entries 0, 1, 2, 3.\n",
        "\n",
        "Create a second series called column_2 with entries 4, 5, 6, 7.\n",
        "\n",
        "Glue these series into a dataframe called table, where the first and second labelled column of the dataframe are column_1 and column_2, respectively. In the dataframe, column_1 should be indexed as col_1 and column_2 should be indexed as col_2.\n",
        "\n",
        "Oops! You've changed your mind about the index labels for the columns. Use rename to rename col_1 as Col_1 and col_2 as Col_2.\n",
        "\n",
        "Stretch: Can you figure out how to rename the row indexes? Try to rename 0 as zero, 1 as one, and so on.\n",
        "\n"
      ]
    },
    {
      "cell_type": "code",
      "execution_count": null,
      "metadata": {
        "id": "AwVx-OQ8wSIN"
      },
      "outputs": [],
      "source": []
    },
    {
      "cell_type": "code",
      "execution_count": null,
      "metadata": {
        "colab": {
          "base_uri": "https://localhost:8080/",
          "height": 300
        },
        "id": "N7ns5yS4skKw",
        "outputId": "9e5767ab-47b3-47e2-aa01-fccd5f66a5d6"
      },
      "outputs": [],
      "source": [
        "dfcars.describe()"
      ]
    },
    {
      "cell_type": "code",
      "execution_count": null,
      "metadata": {
        "id": "M_ZVpWonskHD"
      },
      "outputs": [],
      "source": []
    },
    {
      "cell_type": "markdown",
      "metadata": {
        "id": "IpV5EcdtskE_"
      },
      "source": [
        "## How to create dataframe"
      ]
    },
    {
      "cell_type": "code",
      "execution_count": null,
      "metadata": {
        "colab": {
          "base_uri": "https://localhost:8080/",
          "height": 175
        },
        "id": "l4zJZ1hgskBI",
        "outputId": "2008292b-38a7-4c59-e7ba-293cb8dbb10f"
      },
      "outputs": [],
      "source": [
        "df2 = pd.DataFrame(\n",
        "    {\n",
        "        \"A\": 1.0,\n",
        "        \"B\": pd.Timestamp(\"20130102\"),\n",
        "        \"C\": pd.Series(1, index=list(range(4)), dtype=\"float32\"),\n",
        "        \"D\": np.array([3] * 4, dtype=\"int32\"),\n",
        "        \"E\": pd.Categorical([\"test\", \"train\", \"test\", \"train\"]),\n",
        "        \"F\": \"foo\",\n",
        "    }\n",
        ")\n",
        "\n",
        "df2"
      ]
    },
    {
      "cell_type": "code",
      "execution_count": null,
      "metadata": {
        "colab": {
          "base_uri": "https://localhost:8080/",
          "height": 272
        },
        "id": "1duZ4MZqsj87",
        "outputId": "5f916c0d-28af-4273-b088-3f0400f829a3"
      },
      "outputs": [],
      "source": [
        "df2.dtypes"
      ]
    },
    {
      "cell_type": "code",
      "execution_count": null,
      "metadata": {
        "colab": {
          "base_uri": "https://localhost:8080/",
          "height": 175
        },
        "id": "Xte3oP_Msj6h",
        "outputId": "d7f46887-afc4-44ab-f803-3a685f2cbd38"
      },
      "outputs": [],
      "source": [
        "df2.head()"
      ]
    },
    {
      "cell_type": "code",
      "execution_count": null,
      "metadata": {
        "colab": {
          "base_uri": "https://localhost:8080/",
          "height": 81
        },
        "id": "jgvaQSVNyYzy",
        "outputId": "2fbb9dc8-9dc0-4ab9-fc47-41f4263afa76"
      },
      "outputs": [],
      "source": [
        "df2.tail(1)"
      ]
    },
    {
      "cell_type": "code",
      "execution_count": null,
      "metadata": {
        "colab": {
          "base_uri": "https://localhost:8080/"
        },
        "id": "SfBNf3ciyZ-T",
        "outputId": "a9979b59-22b6-4e71-fe86-976c48e658ce"
      },
      "outputs": [],
      "source": [
        "df2.to_numpy()"
      ]
    },
    {
      "cell_type": "code",
      "execution_count": null,
      "metadata": {
        "colab": {
          "base_uri": "https://localhost:8080/",
          "height": 237
        },
        "id": "Tdw79X5UydIt",
        "outputId": "e2336761-b3f6-4cbc-e9fa-5686bfeffeac"
      },
      "outputs": [],
      "source": [
        "df2.T"
      ]
    },
    {
      "cell_type": "code",
      "execution_count": null,
      "metadata": {
        "colab": {
          "base_uri": "https://localhost:8080/",
          "height": 175
        },
        "id": "i4-Tj_EYyhUT",
        "outputId": "264d5195-1022-4714-b8e4-2f5c1a1f4526"
      },
      "outputs": [],
      "source": [
        "df2.sort_values(by=\"B\")"
      ]
    },
    {
      "cell_type": "code",
      "execution_count": null,
      "metadata": {
        "id": "rzXYZ9x0ylOs"
      },
      "outputs": [],
      "source": [
        "# https://raw.githubusercontent.com/datasciencedojo/datasets/master/titanic.csv\n",
        "\n",
        "# https://raw.githubusercontent.com/panchaldhruv27223/datasets_for_ml_-csv-xlsl-/refs/heads/main/ebird_taxonomy_v2022.csv\n",
        "\n",
        "# https://raw.githubusercontent.com/panchaldhruv27223/datasets_for_ml_-csv-xlsl-/refs/heads/main/kc_house_data.csv"
      ]
    },
    {
      "cell_type": "code",
      "execution_count": null,
      "metadata": {},
      "outputs": [],
      "source": [
        "!wget -O ./datasets/titanic.csv \"https://raw.githubusercontent.com/datasciencedojo/datasets/master/titanic.csv\""
      ]
    },
    {
      "cell_type": "code",
      "execution_count": null,
      "metadata": {},
      "outputs": [],
      "source": [
        "!wget -O ./datasets/ebird_taxonomy_v2022.csv \"https://raw.githubusercontent.com/panchaldhruv27223/datasets_for_ml_-csv-xlsl-/refs/heads/main/ebird_taxonomy_v2022.csv\""
      ]
    },
    {
      "cell_type": "code",
      "execution_count": null,
      "metadata": {},
      "outputs": [],
      "source": [
        "!wget -O ./datasets/kc_house_data.csv \"https://raw.githubusercontent.com/panchaldhruv27223/datasets_for_ml_-csv-xlsl-/refs/heads/main/kc_house_data.csv\""
      ]
    },
    {
      "cell_type": "markdown",
      "metadata": {
        "id": "_QahAP3Uz25N"
      },
      "source": [
        "# Pandas: https://pandas.pydata.org/docs/user_guide/10min.html"
      ]
    }
  ],
  "metadata": {
    "colab": {
      "provenance": []
    },
    "kernelspec": {
      "display_name": "ds605",
      "language": "python",
      "name": "python3"
    },
    "language_info": {
      "codemirror_mode": {
        "name": "ipython",
        "version": 3
      },
      "file_extension": ".py",
      "mimetype": "text/x-python",
      "name": "python",
      "nbconvert_exporter": "python",
      "pygments_lexer": "ipython3",
      "version": "3.8.20"
    }
  },
  "nbformat": 4,
  "nbformat_minor": 0
}
